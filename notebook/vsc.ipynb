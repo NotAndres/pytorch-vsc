{
 "cells": [
  {
   "cell_type": "markdown",
   "metadata": {},
   "source": [
    "# This is a notebook"
   ]
  },
  {
   "cell_type": "code",
   "execution_count": null,
   "metadata": {},
   "outputs": [],
   "source": [
    "import torch\n",
    "from torch import cuda\n",
    "from torch import nn, optim\n",
    "import torch.nn.functional as F\n",
    "from torchvision import datasets, transforms\n",
    "from torchvision.utils import save_image"
   ]
  },
  {
   "cell_type": "code",
   "execution_count": null,
   "outputs": [],
   "source": [
    "torch.manual_seed(22)\n",
    "device = torch.device(\"cuda\" if cuda.is_available() else \"cpu\")\n",
    "print(device)"
   ],
   "metadata": {
    "collapsed": false,
    "pycharm": {
     "name": "#%%\n"
    }
   }
  },
  {
   "cell_type": "markdown",
   "source": [
    "## VAE - Existing Work\n",
    "First the VAE that was already developed was migrated from Tensorflow to Pytorch\n",
    "before starting to work on the VSC"
   ],
   "metadata": {
    "collapsed": false,
    "pycharm": {
     "name": "#%% md\n"
    }
   }
  },
  {
   "cell_type": "code",
   "execution_count": null,
   "outputs": [],
   "source": [
    "class VAE(nn.Module):\n",
    "    def __init__(self, latent_dim):\n",
    "        super(VAE, self).__init__()\n",
    "        self.latent_dim = latent_dim\n",
    "\n",
    "        channels = 'placeholder'\n",
    "        # Encoder\n",
    "        # in_channel = same as image, filters=128, kernel=3, strides=1, padding=same, activation=relu\n",
    "        # TODO Calculate padding size\n",
    "        self.encoder_conv1 = nn.Conv2d(in_channels=96, out_channels=128, kernel_size=3, stride=1, padding=)\n",
    "        # ReLU\n",
    "        self.encoder_maxpool1 = nn.MaxPool2d(kernel_size=2)\n",
    "\n",
    "        self.encoder_conv2 = nn.Conv2d(in_channels=128, out_channels=64, kernel_size=3, stride=1, padding=)\n",
    "        # ReLU\n",
    "        self.encoder_maxpool2 = nn.MaxPool2d(kernel_size=2)\n",
    "\n",
    "        self.encoder_conv3 = nn.Conv2d(in_channels=64, out_channels=32, kernel_size=3, stride=1, padding=)\n",
    "        # ReLU\n",
    "        self.encoder_maxpool3 = nn.MaxPool2d(kernel_size=2)\n",
    "\n",
    "        self.encoder_fc1 = nn.Linear(128, self.latent_dim)\n",
    "        self.encoder_fc2 = nn.Linear(128, self.latent_dim)\n",
    "\n",
    "\n",
    "    def encode(self, x):\n",
    "        x = F.relu(self.encoder_conv1(x))\n",
    "        x = self.encoder_maxpool1(x)\n",
    "        x = F.relu(self.encoder_conv2(x))\n",
    "        x = self.encoder_maxpool2(x)\n",
    "        x = F.relu(self.encoder_conv3(x))\n",
    "        x = self.encoder_maxpool3(x)\n",
    "\n",
    "        mu = self.encoder_fc1(x)\n",
    "        sigma = self.encoder_fc1(x)\n",
    "\n",
    "        return mu, sigma\n",
    "\n",
    "    def reparameterize(self, mu, logvar):\n",
    "        std = torch.exp(0.5*logvar)\n",
    "        eps = torch.randn_like(std)\n",
    "        return mu + eps*std\n",
    "\n",
    "    def decode(self, z):\n",
    "        h3 = F.relu(self.fc3(z))\n",
    "        return torch.sigmoid(self.fc4(h3))\n",
    "\n",
    "    def forward(self, x):\n",
    "        mu, logvar = self.encode(x.view(-1, 784))\n",
    "        z = self.reparameterize(mu, logvar)\n",
    "        return self.decode(z), mu, logvar"
   ],
   "metadata": {
    "collapsed": false,
    "pycharm": {
     "name": "#%%\n"
    }
   }
  },
  {
   "cell_type": "code",
   "execution_count": null,
   "outputs": [],
   "source": [
    "# Reconstruction + KL divergence losses summed over all elements and batch\n",
    "def loss_function(recon_x, x, mu, logvar):\n",
    "    BCE = F.binary_cross_entropy(recon_x, x.view(-1, 784), reduction='sum')\n",
    "\n",
    "    # see Appendix B from VAE paper:\n",
    "    # Kingma and Welling. Auto-Encoding Variational Bayes. ICLR, 2014\n",
    "    # https://arxiv.org/abs/1312.6114\n",
    "    # 0.5 * sum(1 + log(sigma^2) - mu^2 - sigma^2)\n",
    "    KLD = -0.5 * torch.sum(1 + logvar - mu.pow(2) - logvar.exp())\n",
    "\n",
    "    return BCE + KLD"
   ],
   "metadata": {
    "collapsed": false,
    "pycharm": {
     "name": "#%%\n"
    }
   }
  }
 ],
 "metadata": {
  "kernelspec": {
   "display_name": "Python 3",
   "language": "python",
   "name": "python3"
  },
  "language_info": {
   "codemirror_mode": {
    "name": "ipython",
    "version": 3
   },
   "file_extension": ".py",
   "mimetype": "text/x-python",
   "name": "python",
   "nbconvert_exporter": "python",
   "pygments_lexer": "ipython3",
   "version": "3.7.3"
  }
 },
 "nbformat": 4,
 "nbformat_minor": 2
}