{
 "cells": [
  {
   "cell_type": "markdown",
   "metadata": {},
   "source": [
    "# This is a notebook"
   ]
  },
  {
   "cell_type": "code",
   "execution_count": 1,
   "metadata": {},
   "outputs": [],
   "source": [
    "import torch\n",
    "from torch import cuda\n",
    "from torch import nn, optim\n",
    "import torch.nn.functional as F\n",
    "from torchvision import datasets, transforms\n",
    "from torch.utils import data\n",
    "from torchvision.utils import save_image"
   ]
  },
  {
   "cell_type": "code",
   "execution_count": 2,
   "metadata": {
    "pycharm": {
     "name": "#%%\n"
    }
   },
   "outputs": [
    {
     "name": "stdout",
     "output_type": "stream",
     "text": [
      "cuda\n"
     ]
    }
   ],
   "source": [
    "data_dir = '../../../Data/'\n",
    "batch_size = 64\n",
    "\n",
    "torch.manual_seed(22)\n",
    "device = torch.device(\"cuda\" if cuda.is_available() else \"cpu\")\n",
    "print(device)\n"
   ]
  },
  {
   "cell_type": "code",
   "execution_count": 3,
   "metadata": {
    "pycharm": {
     "name": "#%%\n"
    }
   },
   "outputs": [],
   "source": [
    "dataset = datasets.ImageFolder(data_dir, transform=transforms.Compose([\n",
    "    transforms.ToTensor(),\n",
    "    transforms.Normalize((0.485, 0.456, 0.406), (0.229, 0.224, 0.225))\n",
    "]))\n",
    "\n",
    "loader = data.DataLoader(dataset,\n",
    "                         batch_size=batch_size,\n",
    "                         shuffle=True,\n",
    "                         pin_memory=cuda.is_available(),\n",
    "                         num_workers= 1 if cuda.is_available() else 4)"
   ]
  },
  {
   "cell_type": "code",
   "execution_count": 8,
   "metadata": {
    "pycharm": {
     "name": "#%%\n"
    }
   },
   "outputs": [
    {
     "data": {
      "text/plain": [
       "(96, 96, 3)"
      ]
     },
     "execution_count": 8,
     "metadata": {},
     "output_type": "execute_result"
    }
   ],
   "source": [
    "## VAE - Existing Work\n",
    "First the VAE that was already developed was migrated from Tensorflow to Pytorch\n",
    "before starting to work on the VSC"
   ]
  },
  {
   "cell_type": "markdown",
   "metadata": {
    "pycharm": {
     "name": "#%% md\n"
    }
   },
   "source": [
    "class VAE(nn.Module):\n",
    "    def __init__(self, latent_dim):\n",
    "        super(VAE, self).__init__()\n",
    "        self.latent_dim = latent_dim\n",
    "\n",
    "        channels = 'placeholder'\n",
    "        # Encoder\n",
    "        # in_channel = same as image, filters=128, kernel=3, strides=1, padding=same, activation=relu\n",
    "        # TODO Calculate padding size\n",
    "        self.encoder_conv1 = self.getConvolutionLayer(3, 128)\n",
    "        self.encoder_conv2 = self.getConvolutionLayer(128, 64)\n",
    "        self.encoder_conv3 = self.getConvolutionLayer(64, 32)\n",
    "\n",
    "        self.encoder_fc1 = nn.Linear(204800, self.latent_dim)\n",
    "        self.encoder_fc2 = nn.Linear(204800, self.latent_dim)\n",
    "\n",
    "    def getConvolutionLayer(self, in_channels, out_channels):\n",
    "        return nn.Sequential(\n",
    "            nn.Conv2d(in_channels=in_channels, out_channels=out_channels, kernel_size=3, stride=1),\n",
    "            nn.ReLU(),\n",
    "            nn.MaxPool2d(kernel_size=2)\n",
    "        )\n",
    "\n",
    "\n",
    "    def encode(self, x):\n",
    "        print(x.shape)\n",
    "        x = self.encoder_conv1(x)\n",
    "        print(x.shape)\n",
    "        x = self.encoder_conv2(x)\n",
    "        print(x.shape)\n",
    "        x = self.encoder_conv3(x)\n",
    "        print(x.shape)\n",
    "        x = torch.flatten(x)\n",
    "        print(x.shape)\n",
    "        mu = self.encoder_fc1(x)\n",
    "        sigma = self.encoder_fc1(x)\n",
    "\n",
    "        return mu, sigma\n",
    "\n",
    "    def reparameterize(self, mu, logvar):\n",
    "        std = torch.exp(0.5*logvar)\n",
    "        eps = torch.randn_like(std)\n",
    "        return mu + eps*std\n",
    "\n",
    "    def decode(self, z):\n",
    "        h3 = F.relu(self.fc3(z))\n",
    "        return torch.sigmoid(self.fc4(h3))\n",
    "\n",
    "    def forward(self, x):\n",
    "        mu, logvar = self.encode(x.view(-1, 784))\n",
    "        z = self.reparameterize(mu, logvar)\n",
    "        return self.decode(z), mu, logvar"
   ]
  },
  {
   "cell_type": "code",
   "execution_count": null,
   "outputs": [],
   "source": [
    "vae = VAE(256).to(device)\n",
    "vae"
   ],
   "metadata": {
    "collapsed": false,
    "pycharm": {
     "name": "#%%\n"
    }
   }
  },
  {
   "cell_type": "code",
   "execution_count": null,
   "outputs": [],
   "source": [
    "vae.eval()\n",
    "images, _ = next(iter(loader))\n",
    "images = images.to(device)\n",
    "images[0].shape"
   ],
   "metadata": {
    "collapsed": false,
    "pycharm": {
     "name": "#%%\n"
    }
   }
  },
  {
   "cell_type": "code",
   "execution_count": null,
   "outputs": [],
   "source": [
    "vae.encode(images)"
   ],
   "metadata": {
    "collapsed": false,
    "pycharm": {
     "name": "#%%\n"
    }
   }
  },
  {
   "cell_type": "code",
   "execution_count": 22,
   "metadata": {},
   "outputs": [
    {
     "data": {
      "text/plain": [
       "VAE(\n",
       "  (encoder_conv1): Sequential(\n",
       "    (0): Conv2d(3, 128, kernel_size=(3, 3), stride=(1, 1))\n",
       "    (1): ReLU()\n",
       "    (2): MaxPool2d(kernel_size=2, stride=2, padding=0, dilation=1, ceil_mode=False)\n",
       "  )\n",
       "  (encoder_conv2): Sequential(\n",
       "    (0): Conv2d(128, 64, kernel_size=(3, 3), stride=(1, 1))\n",
       "    (1): ReLU()\n",
       "    (2): MaxPool2d(kernel_size=2, stride=2, padding=0, dilation=1, ceil_mode=False)\n",
       "  )\n",
       "  (encoder_conv3): Sequential(\n",
       "    (0): Conv2d(64, 32, kernel_size=(3, 3), stride=(1, 1))\n",
       "    (1): ReLU()\n",
       "    (2): MaxPool2d(kernel_size=2, stride=2, padding=0, dilation=1, ceil_mode=False)\n",
       "  )\n",
       "  (encoder_fc1): Linear(in_features=204800, out_features=256, bias=True)\n",
       "  (encoder_fc2): Linear(in_features=204800, out_features=256, bias=True)\n",
       ")"
      ]
     },
     "execution_count": 22,
     "metadata": {},
     "output_type": "execute_result"
    }
   ],
   "source": [
    "# Reconstruction + KL divergence losses summed over all elements and batch\n",
    "def loss_function(recon_x, x, mu, logvar):\n",
    "    BCE = F.binary_cross_entropy(recon_x, x.view(-1, 784), reduction='sum')\n",
    "\n",
    "    # see Appendix B from VAE paper:\n",
    "    # Kingma and Welling. Auto-Encoding Variational Bayes. ICLR, 2014\n",
    "    # https://arxiv.org/abs/1312.6114\n",
    "    # 0.5 * sum(1 + log(sigma^2) - mu^2 - sigma^2)\n",
    "    KLD = -0.5 * torch.sum(1 + logvar - mu.pow(2) - logvar.exp())\n",
    "\n",
    "    return BCE + KLD"
   ]
  },
  {
   "cell_type": "code",
   "execution_count": 23,
   "metadata": {},
   "outputs": [
    {
     "data": {
      "text/plain": [
       "torch.Size([3, 96, 96])"
      ]
     },
     "execution_count": 23,
     "metadata": {},
     "output_type": "execute_result"
    }
   ],
   "source": [
    "vae.eval()\n",
    "images, _ = next(iter(loader))\n",
    "images = images.to(device)\n",
    "images[0].shape"
   ]
  },
  {
   "cell_type": "code",
   "execution_count": 24,
   "metadata": {},
   "outputs": [
    {
     "name": "stdout",
     "output_type": "stream",
     "text": [
      "torch.Size([64, 3, 96, 96])\n",
      "torch.Size([64, 128, 47, 47])\n",
      "torch.Size([64, 64, 22, 22])\n",
      "torch.Size([64, 32, 10, 10])\n",
      "torch.Size([204800])\n"
     ]
    },
    {
     "data": {
      "text/plain": [
       "(tensor([-0.0317,  0.1145,  0.0514, -0.2172, -0.0066,  0.1483,  0.0683,  0.0021,\n",
       "          0.0288, -0.0779, -0.0307,  0.0071, -0.0198, -0.0838,  0.0385,  0.0360,\n",
       "         -0.1263, -0.0085, -0.1800,  0.0750, -0.0464,  0.0898,  0.0709,  0.0111,\n",
       "         -0.0580,  0.0093,  0.0509, -0.0154, -0.1185,  0.0053, -0.0628,  0.0523,\n",
       "         -0.0328, -0.0397, -0.0276,  0.0601,  0.0437,  0.0265,  0.0677,  0.0509,\n",
       "         -0.0590, -0.0324, -0.1205, -0.0275, -0.0789, -0.0169, -0.0592,  0.0883,\n",
       "          0.0240, -0.0626, -0.0341, -0.0232,  0.0354,  0.0673,  0.1285,  0.0425,\n",
       "         -0.0344,  0.1079, -0.0058,  0.0493, -0.1381,  0.0340, -0.1397,  0.0521,\n",
       "          0.0432,  0.0355,  0.0382,  0.0197, -0.0688,  0.0234,  0.1086, -0.1126,\n",
       "         -0.0594,  0.0768, -0.0139,  0.0596,  0.0729,  0.0511, -0.0322,  0.0178,\n",
       "          0.0599, -0.0466,  0.0675,  0.0657,  0.0285,  0.0120, -0.1209,  0.0134,\n",
       "          0.0505,  0.1134, -0.0223,  0.1140,  0.0841,  0.0985, -0.1348, -0.0560,\n",
       "         -0.0098,  0.0150, -0.0239,  0.0363, -0.1033, -0.0447,  0.0144, -0.0305,\n",
       "         -0.0769,  0.0354,  0.0955, -0.0957,  0.0940,  0.0105, -0.1315,  0.0007,\n",
       "         -0.0791,  0.0930,  0.0677, -0.0055,  0.0122,  0.0089,  0.0092, -0.0491,\n",
       "          0.1059,  0.0673, -0.0338, -0.0085,  0.0920,  0.0303,  0.0097,  0.0159,\n",
       "          0.0343,  0.1038,  0.0462, -0.1253,  0.0639,  0.1066,  0.0290, -0.0059,\n",
       "          0.0282,  0.0178,  0.1209, -0.0038, -0.0437, -0.0636, -0.0421,  0.1802,\n",
       "          0.0895, -0.0815, -0.0409, -0.1346, -0.0547, -0.1281,  0.0793, -0.0494,\n",
       "          0.1757,  0.1677, -0.0983,  0.0700, -0.0860,  0.1416, -0.0897, -0.0826,\n",
       "         -0.1291, -0.0532, -0.0461,  0.0249, -0.1643,  0.0430, -0.0445,  0.0298,\n",
       "         -0.0639,  0.0787,  0.0574,  0.0998,  0.0038, -0.0888,  0.0024, -0.1645,\n",
       "         -0.0463, -0.0903, -0.1211,  0.0548,  0.0034, -0.0414, -0.0861,  0.0007,\n",
       "          0.1082, -0.0607, -0.0281, -0.0261, -0.0125, -0.0538, -0.0037,  0.0312,\n",
       "         -0.0251, -0.0247, -0.0208, -0.0374, -0.0767,  0.0061, -0.0235, -0.0234,\n",
       "         -0.0696, -0.0120, -0.0258,  0.0520,  0.1263,  0.0116, -0.1921,  0.0790,\n",
       "          0.0486, -0.0521, -0.0611, -0.1091, -0.0214,  0.0591,  0.0773,  0.0238,\n",
       "         -0.0468,  0.0243,  0.0339,  0.0141,  0.1377, -0.0119, -0.0021, -0.0075,\n",
       "          0.1727,  0.0048,  0.0285,  0.0371, -0.0070, -0.0289,  0.0180,  0.0131,\n",
       "         -0.0102, -0.0559, -0.0574,  0.1595, -0.1341, -0.1034,  0.0965,  0.0725,\n",
       "          0.0784,  0.0265,  0.0795,  0.0299, -0.0086, -0.0495, -0.0497, -0.1547,\n",
       "          0.0753,  0.0951,  0.0556,  0.0135, -0.0385,  0.1255,  0.0166,  0.0322],\n",
       "        device='cuda:0', grad_fn=<AddBackward0>),\n",
       " tensor([-0.0317,  0.1145,  0.0514, -0.2172, -0.0066,  0.1483,  0.0683,  0.0021,\n",
       "          0.0288, -0.0779, -0.0307,  0.0071, -0.0198, -0.0838,  0.0385,  0.0360,\n",
       "         -0.1263, -0.0085, -0.1800,  0.0750, -0.0464,  0.0898,  0.0709,  0.0111,\n",
       "         -0.0580,  0.0093,  0.0509, -0.0154, -0.1185,  0.0053, -0.0628,  0.0523,\n",
       "         -0.0328, -0.0397, -0.0276,  0.0601,  0.0437,  0.0265,  0.0677,  0.0509,\n",
       "         -0.0590, -0.0324, -0.1205, -0.0275, -0.0789, -0.0169, -0.0592,  0.0883,\n",
       "          0.0240, -0.0626, -0.0341, -0.0232,  0.0354,  0.0673,  0.1285,  0.0425,\n",
       "         -0.0344,  0.1079, -0.0058,  0.0493, -0.1381,  0.0340, -0.1397,  0.0521,\n",
       "          0.0432,  0.0355,  0.0382,  0.0197, -0.0688,  0.0234,  0.1086, -0.1126,\n",
       "         -0.0594,  0.0768, -0.0139,  0.0596,  0.0729,  0.0511, -0.0322,  0.0178,\n",
       "          0.0599, -0.0466,  0.0675,  0.0657,  0.0285,  0.0120, -0.1209,  0.0134,\n",
       "          0.0505,  0.1134, -0.0223,  0.1140,  0.0841,  0.0985, -0.1348, -0.0560,\n",
       "         -0.0098,  0.0150, -0.0239,  0.0363, -0.1033, -0.0447,  0.0144, -0.0305,\n",
       "         -0.0769,  0.0354,  0.0955, -0.0957,  0.0940,  0.0105, -0.1315,  0.0007,\n",
       "         -0.0791,  0.0930,  0.0677, -0.0055,  0.0122,  0.0089,  0.0092, -0.0491,\n",
       "          0.1059,  0.0673, -0.0338, -0.0085,  0.0920,  0.0303,  0.0097,  0.0159,\n",
       "          0.0343,  0.1038,  0.0462, -0.1253,  0.0639,  0.1066,  0.0290, -0.0059,\n",
       "          0.0282,  0.0178,  0.1209, -0.0038, -0.0437, -0.0636, -0.0421,  0.1802,\n",
       "          0.0895, -0.0815, -0.0409, -0.1346, -0.0547, -0.1281,  0.0793, -0.0494,\n",
       "          0.1757,  0.1677, -0.0983,  0.0700, -0.0860,  0.1416, -0.0897, -0.0826,\n",
       "         -0.1291, -0.0532, -0.0461,  0.0249, -0.1643,  0.0430, -0.0445,  0.0298,\n",
       "         -0.0639,  0.0787,  0.0574,  0.0998,  0.0038, -0.0888,  0.0024, -0.1645,\n",
       "         -0.0463, -0.0903, -0.1211,  0.0548,  0.0034, -0.0414, -0.0861,  0.0007,\n",
       "          0.1082, -0.0607, -0.0281, -0.0261, -0.0125, -0.0538, -0.0037,  0.0312,\n",
       "         -0.0251, -0.0247, -0.0208, -0.0374, -0.0767,  0.0061, -0.0235, -0.0234,\n",
       "         -0.0696, -0.0120, -0.0258,  0.0520,  0.1263,  0.0116, -0.1921,  0.0790,\n",
       "          0.0486, -0.0521, -0.0611, -0.1091, -0.0214,  0.0591,  0.0773,  0.0238,\n",
       "         -0.0468,  0.0243,  0.0339,  0.0141,  0.1377, -0.0119, -0.0021, -0.0075,\n",
       "          0.1727,  0.0048,  0.0285,  0.0371, -0.0070, -0.0289,  0.0180,  0.0131,\n",
       "         -0.0102, -0.0559, -0.0574,  0.1595, -0.1341, -0.1034,  0.0965,  0.0725,\n",
       "          0.0784,  0.0265,  0.0795,  0.0299, -0.0086, -0.0495, -0.0497, -0.1547,\n",
       "          0.0753,  0.0951,  0.0556,  0.0135, -0.0385,  0.1255,  0.0166,  0.0322],\n",
       "        device='cuda:0', grad_fn=<AddBackward0>))"
      ]
     },
     "execution_count": 24,
     "metadata": {},
     "output_type": "execute_result"
    }
   ],
   "source": [
    "vae.encode(images)"
   ]
  },
  {
   "cell_type": "code",
   "execution_count": null,
   "metadata": {
    "pycharm": {
     "name": "#%%\n"
    }
   },
   "outputs": [],
   "source": [
    "# Reconstruction + KL divergence losses summed over all elements and batch\n",
    "def loss_function(recon_x, x, mu, logvar):\n",
    "    BCE = F.binary_cross_entropy(recon_x, x.view(-1, 784), reduction='sum')\n",
    "\n",
    "    # see Appendix B from VAE paper:\n",
    "    # Kingma and Welling. Auto-Encoding Variational Bayes. ICLR, 2014\n",
    "    # https://arxiv.org/abs/1312.6114\n",
    "    # 0.5 * sum(1 + log(sigma^2) - mu^2 - sigma^2)\n",
    "    KLD = -0.5 * torch.sum(1 + logvar - mu.pow(2) - logvar.exp())\n",
    "\n",
    "    return BCE + KLD"
   ]
  }
 ],
 "metadata": {
  "kernelspec": {
   "display_name": "Python 3",
   "language": "python",
   "name": "python3"
  },
  "language_info": {
   "codemirror_mode": {
    "name": "ipython",
    "version": 3
   },
   "file_extension": ".py",
   "mimetype": "text/x-python",
   "name": "python",
   "nbconvert_exporter": "python",
   "pygments_lexer": "ipython3",
   "version": "3.7.3"
  }
 },
 "nbformat": 4,
 "nbformat_minor": 2
}