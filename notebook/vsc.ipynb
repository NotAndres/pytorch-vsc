{
 "cells": [
  {
   "cell_type": "markdown",
   "metadata": {},
   "source": [
    "# VAE and VSC for Cell Images"
   ]
  },
  {
   "cell_type": "code",
   "execution_count": 1,
   "metadata": {},
   "outputs": [],
   "source": [
    "import torch\n",
    "from torch import cuda\n",
    "from torch import nn, optim\n",
    "import torch.nn.functional as F\n",
    "from torchvision import datasets, transforms\n",
    "from torch.utils import data\n",
    "from torchvision.utils import save_image\n",
    "import torchvision\n",
    "import matplotlib.pyplot as plt\n",
    "import numpy as np\n",
    "from PIL import Image"
   ]
  },
  {
   "cell_type": "code",
   "execution_count": 2,
   "metadata": {
    "pycharm": {
     "name": "#%%\n"
    }
   },
   "outputs": [
    {
     "name": "stdout",
     "output_type": "stream",
     "text": [
      "cuda\n"
     ]
    }
   ],
   "source": [
    "data_dir = '../../../Data/'\n",
    "results_dir = '../../../results/'\n",
    "batch_size = 128\n",
    "\n",
    "torch.manual_seed(22)\n",
    "device = torch.device(\"cuda\" if cuda.is_available() else \"cpu\")\n",
    "print(device)"
   ]
  },
  {
   "cell_type": "markdown",
   "metadata": {},
   "source": [
    "The following code is a utility to load and split the data given the path where the data is stored, pytorch keeps the folder names as labes as if it was a classification task, but they can just be ignored when using the data loaders. Since the task at hand is from a very specific domain (biology and cell images) the normalization values that are often used for computer vision tasks cannot be used. The mean and std used to normalize the dataset was pre computed from a small sample of the dataset and might not be accurate, but it seems to work well right now"
   ]
  },
  {
   "cell_type": "code",
   "execution_count": 3,
   "metadata": {},
   "outputs": [],
   "source": [
    "def split_data(data_dir, n_split=0.2, batch_size=256):\n",
    "    \n",
    "    pin_memory = cuda.is_available()\n",
    "    workers = 0 if cuda.is_available() else 4\n",
    "    \n",
    "    # Create training and validation datasets\n",
    "    image_dataset = datasets.ImageFolder(data_dir, transform=transforms.Compose([\n",
    "        transforms.ToTensor(),\n",
    "        #transforms.Normalize((0.5, 0.5, 0.5), (0.5, 0.5, 0.5))\n",
    "        transforms.Normalize((0.0302, 0.0660, 0.0518), (0.0633, 0.0974, 0.0766))\n",
    "    ]))\n",
    "    # Create training and validation dataloaders\n",
    "    total = len(image_dataset)\n",
    "    n_test = int(total * n_split)\n",
    "    n_train = total - n_test \n",
    "    train_set, test_set = data.random_split(image_dataset, (n_train, n_test))\n",
    "\n",
    "    n_val = int(len(train_set) * n_split)\n",
    "    n_train = len(train_set) - n_val\n",
    "    train_set, val_set = data.random_split(train_set, (n_train, n_val))  \n",
    "    \n",
    "    print('Train split: ', len(train_set))\n",
    "    print('Val split: ', len(val_set))\n",
    "    print('Test split: ', len(test_set))\n",
    "    \n",
    "    train_loader = data.DataLoader(\n",
    "      train_set,\n",
    "      batch_size=batch_size,\n",
    "      num_workers = workers,\n",
    "      shuffle=True,\n",
    "      pin_memory=pin_memory\n",
    "    )\n",
    "    val_loader = data.DataLoader(\n",
    "      val_set,\n",
    "      batch_size=batch_size,\n",
    "      num_workers = workers,\n",
    "      shuffle=True,\n",
    "      pin_memory=pin_memory\n",
    "    )\n",
    "    test_loader = data.DataLoader(\n",
    "      test_set,\n",
    "      batch_size=batch_size,\n",
    "      num_workers = workers,\n",
    "      shuffle=True,\n",
    "      pin_memory=pin_memory\n",
    "    )\n",
    "    return train_loader, val_loader, test_loader"
   ]
  },
  {
   "cell_type": "markdown",
   "metadata": {},
   "source": [
    "Helper function to view tensors as a plot"
   ]
  },
  {
   "cell_type": "code",
   "execution_count": 4,
   "metadata": {},
   "outputs": [],
   "source": [
    "def imshow(inp, title=None):\n",
    "    \"\"\"Imshow for Tensor.\"\"\"\n",
    "    inp = inp.numpy().transpose((1, 2, 0))\n",
    "    mean = np.array([0.0302, 0.0660, 0.0518])\n",
    "    std = np.array([0.0633, 0.0974, 0.0766])\n",
    "    inp = std * inp + mean\n",
    "    inp = np.clip(inp, 0, 1)\n",
    "    plt.figure(figsize=(15,15))\n",
    "    plt.imshow(inp)\n",
    "    if title is not None:\n",
    "        plt.title(title)"
   ]
  },
  {
   "cell_type": "markdown",
   "metadata": {},
   "source": [
    "## Variational AutoEncoder\n",
    "\n",
    "The previous work this is based on had an specific VAE architecture implemented in TensorFlow, the first step was to migrate that NN to Pytorch keeping the same layers and the same operations that were done in the encoder and autoencoder, as well as to keep the same loss fuction"
   ]
  },
  {
   "cell_type": "code",
   "execution_count": 5,
   "metadata": {
    "pycharm": {
     "name": "#%%\n"
    }
   },
   "outputs": [],
   "source": [
    "class VAE(nn.Module):\n",
    "    def __init__(self, latent_dim):\n",
    "        super(VAE, self).__init__()\n",
    "        self.latent_dim = latent_dim\n",
    "\n",
    "        channels = 'placeholder'\n",
    "        # Encoder\n",
    "        self.encoder_conv1 = self.getConvolutionLayer(3, 128)\n",
    "        self.encoder_conv2 = self.getConvolutionLayer(128, 64)\n",
    "        self.encoder_conv3 = self.getConvolutionLayer(64, 32)\n",
    "        \n",
    "        self.flatten = nn.Flatten()\n",
    "\n",
    "        self.encoder_fc1 = nn.Linear(4608, self.latent_dim)\n",
    "        self.encoder_fc2 = nn.Linear(4608, self.latent_dim)\n",
    "        \n",
    "        # Decoder\n",
    "        self.decoder_fc1 = nn.Sequential(\n",
    "            nn.Linear(self.latent_dim, 4608),\n",
    "            nn.ReLU()\n",
    "        )\n",
    "        # Reshape to 32x12x12\n",
    "        self.decoder_upsampler1 = nn.Upsample(scale_factor=(2,2) ,mode='nearest')\n",
    "        \n",
    "        self.decoder_deconv1 = nn.Sequential(\n",
    "            nn.Conv2d(in_channels=32, out_channels=64, kernel_size=3, stride=1, padding=1),\n",
    "            nn.Upsample(scale_factor=(2,2) ,mode='nearest')\n",
    "        )\n",
    "        # 48x48x64\n",
    "        self.decoder_deconv2 = nn.Sequential(\n",
    "            nn.Conv2d(in_channels=64, out_channels=128, kernel_size=3, stride=1, padding=1),\n",
    "            nn.Upsample(scale_factor=(2,2) ,mode='nearest')\n",
    "        )\n",
    "\n",
    "        self.decoder_conv1 = nn.Conv2d(in_channels=128, out_channels=3, kernel_size=3, stride=1, padding=1)\n",
    "        # 96x96x128\n",
    "        \n",
    "\n",
    "    def getConvolutionLayer(self, in_channels, out_channels):\n",
    "        return nn.Sequential(\n",
    "            nn.Conv2d(in_channels=in_channels, out_channels=out_channels, kernel_size=3, stride=1, padding=1),\n",
    "            nn.ReLU(),\n",
    "            nn.MaxPool2d(kernel_size=2)\n",
    "        )\n",
    "\n",
    "\n",
    "    def encode(self, x):\n",
    "        x = self.encoder_conv1(x)\n",
    "        x = self.encoder_conv2(x)\n",
    "        x = self.encoder_conv3(x)\n",
    "        \n",
    "        x = self.flatten(x)\n",
    "        mu = self.encoder_fc1(x)\n",
    "        sigma = self.encoder_fc2(x)\n",
    "\n",
    "        return mu, sigma\n",
    "\n",
    "    def reparameterize(self, mu, logvar):\n",
    "        std = torch.exp(0.5*logvar)\n",
    "        # Keeps shape, samples from normal dist with mean 0 and variance 1\n",
    "        eps = torch.randn_like(std)\n",
    "        return mu + eps*std\n",
    "\n",
    "    def decode(self, z):\n",
    "        z = self.decoder_fc1(z)\n",
    "        z = self.decoder_upsampler1(z.view(-1, 32, 12, 12))\n",
    "        z = self.decoder_deconv1(z)\n",
    "        z = self.decoder_deconv2(z)\n",
    "        recon = self.decoder_conv1(z)        \n",
    "        return recon\n",
    "\n",
    "    def forward(self, x):\n",
    "        mu, logvar = self.encode(x)\n",
    "        z = self.reparameterize(mu, logvar)\n",
    "        return self.decode(z), mu, logvar"
   ]
  },
  {
   "cell_type": "markdown",
   "metadata": {},
   "source": [
    "From what I've seen MSE and KLD and somewhat incompatible depending on how the scores are aggregated. It either has to be sum or mean, choosing different aggregation techniques results in the difference between scores being too different and the NN will end up optimizing the one that has the bigger impact. Current solution is B-Vae where a B parameter is added to the KLD as to control how much importance it has in the loss function; KLD and MSE are aggregated by sum."
   ]
  },
  {
   "cell_type": "code",
   "execution_count": 6,
   "metadata": {
    "pycharm": {
     "name": "#%%\n"
    }
   },
   "outputs": [],
   "source": [
    "# Reconstruction + KL divergence losses summed over all elements and batch\n",
    "def loss_function(recon_x, x, mu, logvar, epoch_n=False):\n",
    "    \n",
    "    mse = F.mse_loss(recon_x, x, reduction='sum')\n",
    "    \n",
    "    # mse = torch.mean(torch.sum((x - recon).pow(2), dim=(1,2,3)))\n",
    "    \n",
    "    # see Appendix B from VAE paper:\n",
    "    # Kingma and Welling. Auto-Encoding Variational Bayes. ICLR, 2014\n",
    "    # https://arxiv.org/abs/1312.6114\n",
    "    \n",
    "    #kld = torch.mean(-0.5 * torch.sum(1 + torch.log(1e-10 + sigma.pow(2)) - mu.pow(2) - sigma.pow(2)))\n",
    "    #kld = torch.mean(-0.5 * torch.sum(1 + logvar - mu.pow(2) - logvar.exp(), axis=1))\n",
    "    \n",
    "    kld = -0.5 * torch.sum(1 + logvar - mu.pow(2) - logvar.exp()) * 20\n",
    "    \n",
    "    \n",
    "    loss = mse + kld\n",
    "    return loss, mse, kld"
   ]
  },
  {
   "cell_type": "markdown",
   "metadata": {},
   "source": [
    "Helpers for the model training and testing loop "
   ]
  },
  {
   "cell_type": "code",
   "execution_count": 7,
   "metadata": {},
   "outputs": [],
   "source": [
    "def train(epoch, train_loader):\n",
    "    model.train()\n",
    "    train_loss = 0\n",
    "    train_mse = 0\n",
    "    train_kld = 0\n",
    "    for batch_idx, (data, _) in enumerate(train_loader):\n",
    "        data = data.to(device)\n",
    "        optimizer.zero_grad()\n",
    "        recon_batch, mu, logvar = model(data)\n",
    "        loss, mse, kld = loss_function(recon_batch, data, mu, logvar, epoch)\n",
    "        \n",
    "        loss.backward()\n",
    "        optimizer.step()\n",
    "        \n",
    "        current_batch_size = len(data)\n",
    "        train_loss += loss.item()\n",
    "        train_mse += mse.item()\n",
    "        train_kld += kld.item()\n",
    "\n",
    "  \n",
    "        if batch_idx % 50 == 0:\n",
    "            print('Train Epoch: {} [{}/{} ({:.0f}%)]\\tLoss: {:.6f}'.format(\n",
    "                epoch, batch_idx * len(data), len(train_loader.dataset),\n",
    "                100. * batch_idx / len(train_loader),\n",
    "                loss.item() / current_batch_size))\n",
    "\n",
    "    datapoints = len(train_loader.dataset)\n",
    "    avg_loss = train_loss/datapoints\n",
    "    avg_mse = train_mse/datapoints\n",
    "    avg_kld = train_kld/datapoints\n",
    "\n",
    "    print('====> Epoch: {} Average loss: {:.8f}'.format(epoch, avg_loss))\n",
    "    print('*** Avg MSE: {:.4f}'.format(avg_mse))\n",
    "    print('*** Avg KLD: {:.8f}'.format(avg_kld))\n",
    "    return avg_loss, avg_mse, avg_kld"
   ]
  },
  {
   "cell_type": "code",
   "execution_count": 8,
   "metadata": {},
   "outputs": [],
   "source": [
    "def test(epoch, test_loader):\n",
    "    model.eval()\n",
    "    test_loss = 0\n",
    "    test_mse = 0\n",
    "    test_kld = 0\n",
    "    with torch.no_grad():\n",
    "        for i, (data, _) in enumerate(test_loader):\n",
    "            data = data.to(device)\n",
    "            recon_batch, mu, logvar = model(data)\n",
    "            loss, mse, kld = loss_function(recon_batch, data, mu, logvar, epoch)\n",
    "\n",
    "            current_batch_size = data.size(0)\n",
    "            test_loss += loss.item()\n",
    "            test_mse += mse.item()\n",
    "            test_kld += kld.item()\n",
    "\n",
    "            if i == 0:\n",
    "                n = min(data.size(0), 8)\n",
    "                comparison = torch.cat([data[:n], recon_batch[:n]]).cpu()\n",
    "                comparison = torchvision.utils.make_grid(comparison)\n",
    "                imshow(comparison)\n",
    "                plt.savefig(results_dir + 'reconstruction_' + str(epoch) + '.png')\n",
    "                plt.close()\n",
    "                #save_image(comparison, results_dir + 'reconstruction_' + str(epoch) + '.tif')\n",
    "\n",
    "    datapoints = len(test_loader.dataset)\n",
    "    test_loss /= datapoints\n",
    "    test_mse /= datapoints\n",
    "    test_kld /= datapoints\n",
    "    print('====> Test set loss: {:.8f}'.format(test_loss))\n",
    "    print('*** Avg MSE: {:.8f}'.format(test_mse))\n",
    "    print('*** Avg KLD: {:.8f}'.format(test_kld))\n",
    "    return test_loss, test_mse, test_kld"
   ]
  },
  {
   "cell_type": "markdown",
   "metadata": {},
   "source": [
    "### Training\n",
    "The training of the migrated VAE starts here"
   ]
  },
  {
   "cell_type": "code",
   "execution_count": 9,
   "metadata": {
    "pycharm": {
     "name": "#%%\n"
    }
   },
   "outputs": [
    {
     "name": "stdout",
     "output_type": "stream",
     "text": [
      "Train split:  26634\n",
      "Val split:  6658\n",
      "Test split:  8322\n"
     ]
    }
   ],
   "source": [
    "train_data, val_data, test_data = split_data(data_dir=data_dir, batch_size=batch_size)"
   ]
  },
  {
   "cell_type": "code",
   "execution_count": 10,
   "metadata": {
    "pycharm": {
     "name": "#%%\n"
    }
   },
   "outputs": [
    {
     "data": {
      "text/plain": [
       "VAE(\n",
       "  (encoder_conv1): Sequential(\n",
       "    (0): Conv2d(3, 128, kernel_size=(3, 3), stride=(1, 1), padding=(1, 1))\n",
       "    (1): ReLU()\n",
       "    (2): MaxPool2d(kernel_size=2, stride=2, padding=0, dilation=1, ceil_mode=False)\n",
       "  )\n",
       "  (encoder_conv2): Sequential(\n",
       "    (0): Conv2d(128, 64, kernel_size=(3, 3), stride=(1, 1), padding=(1, 1))\n",
       "    (1): ReLU()\n",
       "    (2): MaxPool2d(kernel_size=2, stride=2, padding=0, dilation=1, ceil_mode=False)\n",
       "  )\n",
       "  (encoder_conv3): Sequential(\n",
       "    (0): Conv2d(64, 32, kernel_size=(3, 3), stride=(1, 1), padding=(1, 1))\n",
       "    (1): ReLU()\n",
       "    (2): MaxPool2d(kernel_size=2, stride=2, padding=0, dilation=1, ceil_mode=False)\n",
       "  )\n",
       "  (flatten): Flatten()\n",
       "  (encoder_fc1): Linear(in_features=4608, out_features=256, bias=True)\n",
       "  (encoder_fc2): Linear(in_features=4608, out_features=256, bias=True)\n",
       "  (decoder_fc1): Sequential(\n",
       "    (0): Linear(in_features=256, out_features=4608, bias=True)\n",
       "    (1): ReLU()\n",
       "  )\n",
       "  (decoder_upsampler1): Upsample(scale_factor=(2.0, 2.0), mode=nearest)\n",
       "  (decoder_deconv1): Sequential(\n",
       "    (0): Conv2d(32, 64, kernel_size=(3, 3), stride=(1, 1), padding=(1, 1))\n",
       "    (1): Upsample(scale_factor=(2.0, 2.0), mode=nearest)\n",
       "  )\n",
       "  (decoder_deconv2): Sequential(\n",
       "    (0): Conv2d(64, 128, kernel_size=(3, 3), stride=(1, 1), padding=(1, 1))\n",
       "    (1): Upsample(scale_factor=(2.0, 2.0), mode=nearest)\n",
       "  )\n",
       "  (decoder_conv1): Conv2d(128, 3, kernel_size=(3, 3), stride=(1, 1), padding=(1, 1))\n",
       ")"
      ]
     },
     "execution_count": 10,
     "metadata": {},
     "output_type": "execute_result"
    }
   ],
   "source": [
    "model = VAE(256).to(device)\n",
    "model"
   ]
  },
  {
   "cell_type": "code",
   "execution_count": 11,
   "metadata": {
    "pycharm": {
     "name": "#%%\n"
    }
   },
   "outputs": [
    {
     "name": "stdout",
     "output_type": "stream",
     "text": [
      "Train Epoch: 1 [0/26634 (0%)]\tLoss: 32261.302734\n",
      "Train Epoch: 1 [6400/26634 (24%)]\tLoss: 16151.497070\n",
      "Train Epoch: 1 [12800/26634 (48%)]\tLoss: 12147.211914\n",
      "Train Epoch: 1 [19200/26634 (72%)]\tLoss: 12199.304688\n",
      "Train Epoch: 1 [25600/26634 (96%)]\tLoss: 10953.904297\n",
      "====> Epoch: 1 Average loss: 15054.76358050\n",
      "*** Avg MSE: 13417.3684\n",
      "*** Avg KLD: 1637.39512229\n",
      "====> Test set loss: 10485.86348366\n",
      "*** Avg MSE: 8629.44119533\n",
      "*** Avg KLD: 1856.42232830\n",
      "Train Epoch: 2 [0/26634 (0%)]\tLoss: 10551.914062\n",
      "Train Epoch: 2 [6400/26634 (24%)]\tLoss: 9646.083984\n",
      "Train Epoch: 2 [12800/26634 (48%)]\tLoss: 9619.916016\n",
      "Train Epoch: 2 [19200/26634 (72%)]\tLoss: 9216.230469\n",
      "Train Epoch: 2 [25600/26634 (96%)]\tLoss: 9483.857422\n",
      "====> Epoch: 2 Average loss: 9760.30744244\n",
      "*** Avg MSE: 7858.5439\n",
      "*** Avg KLD: 1901.76355117\n",
      "====> Test set loss: 9183.24437457\n",
      "*** Avg MSE: 7230.41241006\n",
      "*** Avg KLD: 1952.83192227\n",
      "Train Epoch: 3 [0/26634 (0%)]\tLoss: 8732.134766\n",
      "Train Epoch: 3 [6400/26634 (24%)]\tLoss: 9407.251953\n",
      "Train Epoch: 3 [12800/26634 (48%)]\tLoss: 7927.365723\n",
      "Train Epoch: 3 [19200/26634 (72%)]\tLoss: 7928.478516\n",
      "Train Epoch: 3 [25600/26634 (96%)]\tLoss: 8170.887695\n",
      "====> Epoch: 3 Average loss: 8575.08664530\n",
      "*** Avg MSE: 6570.8427\n",
      "*** Avg KLD: 2004.24392694\n",
      "====> Test set loss: 8376.49603039\n",
      "*** Avg MSE: 6344.82944654\n",
      "*** Avg KLD: 2031.66655818\n",
      "Train Epoch: 4 [0/26634 (0%)]\tLoss: 8440.611328\n",
      "Train Epoch: 4 [6400/26634 (24%)]\tLoss: 8663.810547\n",
      "Train Epoch: 4 [12800/26634 (48%)]\tLoss: 7967.932129\n",
      "Train Epoch: 4 [19200/26634 (72%)]\tLoss: 8446.911133\n",
      "Train Epoch: 4 [25600/26634 (96%)]\tLoss: 8299.733398\n",
      "====> Epoch: 4 Average loss: 8138.68013424\n",
      "*** Avg MSE: 6126.0787\n",
      "*** Avg KLD: 2012.60139640\n",
      "====> Test set loss: 8068.19120809\n",
      "*** Avg MSE: 6022.72396283\n",
      "*** Avg KLD: 2045.46724288\n",
      "Train Epoch: 5 [0/26634 (0%)]\tLoss: 8191.859863\n",
      "Train Epoch: 5 [6400/26634 (24%)]\tLoss: 7599.440918\n",
      "Train Epoch: 5 [12800/26634 (48%)]\tLoss: 8040.859375\n",
      "Train Epoch: 5 [19200/26634 (72%)]\tLoss: 7812.218750\n",
      "Train Epoch: 5 [25600/26634 (96%)]\tLoss: 7918.623047\n",
      "====> Epoch: 5 Average loss: 7882.94162478\n",
      "*** Avg MSE: 5852.1774\n",
      "*** Avg KLD: 2030.76421409\n",
      "====> Test set loss: 7831.42707844\n",
      "*** Avg MSE: 5822.07741451\n",
      "*** Avg KLD: 2009.34969679\n",
      "Train Epoch: 6 [0/26634 (0%)]\tLoss: 7881.667969\n",
      "Train Epoch: 6 [6400/26634 (24%)]\tLoss: 7870.858398\n",
      "Train Epoch: 6 [12800/26634 (48%)]\tLoss: 7621.384766\n",
      "Train Epoch: 6 [19200/26634 (72%)]\tLoss: 7371.157715\n",
      "Train Epoch: 6 [25600/26634 (96%)]\tLoss: 7612.945801\n",
      "====> Epoch: 6 Average loss: 7679.35870064\n",
      "*** Avg MSE: 5646.2516\n",
      "*** Avg KLD: 2033.10705272\n",
      "====> Test set loss: 7707.92147868\n",
      "*** Avg MSE: 5653.98320937\n",
      "*** Avg KLD: 2053.93825985\n",
      "Train Epoch: 7 [0/26634 (0%)]\tLoss: 7586.005371\n",
      "Train Epoch: 7 [6400/26634 (24%)]\tLoss: 7349.282715\n",
      "Train Epoch: 7 [12800/26634 (48%)]\tLoss: 7546.032227\n",
      "Train Epoch: 7 [19200/26634 (72%)]\tLoss: 7739.851562\n",
      "Train Epoch: 7 [25600/26634 (96%)]\tLoss: 7334.196289\n",
      "====> Epoch: 7 Average loss: 7547.31066494\n",
      "*** Avg MSE: 5507.0703\n",
      "*** Avg KLD: 2040.24041829\n",
      "====> Test set loss: 7573.66937331\n",
      "*** Avg MSE: 5519.50048857\n",
      "*** Avg KLD: 2054.16894810\n",
      "Train Epoch: 8 [0/26634 (0%)]\tLoss: 7759.373535\n",
      "Train Epoch: 8 [6400/26634 (24%)]\tLoss: 7547.039062\n",
      "Train Epoch: 8 [12800/26634 (48%)]\tLoss: 7151.938965\n",
      "Train Epoch: 8 [19200/26634 (72%)]\tLoss: 7351.768066\n",
      "Train Epoch: 8 [25600/26634 (96%)]\tLoss: 7962.538086\n",
      "====> Epoch: 8 Average loss: 7425.81219377\n",
      "*** Avg MSE: 5384.6601\n",
      "*** Avg KLD: 2041.15213255\n",
      "====> Test set loss: 7490.96232402\n",
      "*** Avg MSE: 5465.91468440\n",
      "*** Avg KLD: 2025.04768655\n",
      "Train Epoch: 9 [0/26634 (0%)]\tLoss: 7334.899414\n",
      "Train Epoch: 9 [6400/26634 (24%)]\tLoss: 7487.041992\n",
      "Train Epoch: 9 [12800/26634 (48%)]\tLoss: 7239.645508\n",
      "Train Epoch: 9 [19200/26634 (72%)]\tLoss: 6827.910156\n",
      "Train Epoch: 9 [25600/26634 (96%)]\tLoss: 7194.063965\n",
      "====> Epoch: 9 Average loss: 7312.29611235\n",
      "*** Avg MSE: 5279.3620\n",
      "*** Avg KLD: 2032.93410685\n",
      "====> Test set loss: 7366.29337768\n",
      "*** Avg MSE: 5342.02086218\n",
      "*** Avg KLD: 2024.27251323\n",
      "Train Epoch: 10 [0/26634 (0%)]\tLoss: 7193.674805\n",
      "Train Epoch: 10 [6400/26634 (24%)]\tLoss: 7192.983398\n",
      "Train Epoch: 10 [12800/26634 (48%)]\tLoss: 7190.125488\n",
      "Train Epoch: 10 [19200/26634 (72%)]\tLoss: 7301.547363\n",
      "Train Epoch: 10 [25600/26634 (96%)]\tLoss: 7003.485840\n",
      "====> Epoch: 10 Average loss: 7214.80374445\n",
      "*** Avg MSE: 5186.7900\n",
      "*** Avg KLD: 2028.01378107\n",
      "====> Test set loss: 7220.89324872\n",
      "*** Avg MSE: 5228.74517248\n",
      "*** Avg KLD: 1992.14805270\n",
      "Train Epoch: 11 [0/26634 (0%)]\tLoss: 7555.957520\n",
      "Train Epoch: 11 [6400/26634 (24%)]\tLoss: 6914.600586\n",
      "Train Epoch: 11 [12800/26634 (48%)]\tLoss: 7630.670410\n",
      "Train Epoch: 11 [19200/26634 (72%)]\tLoss: 6900.097168\n",
      "Train Epoch: 11 [25600/26634 (96%)]\tLoss: 7601.932617\n",
      "====> Epoch: 11 Average loss: 7113.39221190\n",
      "*** Avg MSE: 5093.6106\n",
      "*** Avg KLD: 2019.78163338\n",
      "====> Test set loss: 7144.19758714\n",
      "*** Avg MSE: 5095.52300290\n",
      "*** Avg KLD: 2048.67460998\n",
      "Train Epoch: 12 [0/26634 (0%)]\tLoss: 7071.048828\n",
      "Train Epoch: 12 [6400/26634 (24%)]\tLoss: 7133.964844\n",
      "Train Epoch: 12 [12800/26634 (48%)]\tLoss: 6778.416992\n",
      "Train Epoch: 12 [19200/26634 (72%)]\tLoss: 6999.807617\n",
      "Train Epoch: 12 [25600/26634 (96%)]\tLoss: 6636.211914\n",
      "====> Epoch: 12 Average loss: 7013.64464946\n",
      "*** Avg MSE: 5007.4131\n",
      "*** Avg KLD: 2006.23158677\n",
      "====> Test set loss: 7080.24152614\n",
      "*** Avg MSE: 5060.04758080\n",
      "*** Avg KLD: 2020.19394303\n",
      "Train Epoch: 13 [0/26634 (0%)]\tLoss: 6937.023926\n",
      "Train Epoch: 13 [6400/26634 (24%)]\tLoss: 6644.174316\n",
      "Train Epoch: 13 [12800/26634 (48%)]\tLoss: 7281.751953\n",
      "Train Epoch: 13 [19200/26634 (72%)]\tLoss: 6971.825195\n",
      "Train Epoch: 13 [25600/26634 (96%)]\tLoss: 6635.262207\n",
      "====> Epoch: 13 Average loss: 6936.60108672\n",
      "*** Avg MSE: 4945.8109\n",
      "*** Avg KLD: 1990.79018316\n",
      "====> Test set loss: 7082.98120462\n",
      "*** Avg MSE: 5045.54344779\n",
      "*** Avg KLD: 2037.43775917\n",
      "Train Epoch: 14 [0/26634 (0%)]\tLoss: 7420.980469\n",
      "Train Epoch: 14 [6400/26634 (24%)]\tLoss: 6841.617188\n",
      "Train Epoch: 14 [12800/26634 (48%)]\tLoss: 6845.679688\n",
      "Train Epoch: 14 [19200/26634 (72%)]\tLoss: 6857.034180\n",
      "Train Epoch: 14 [25600/26634 (96%)]\tLoss: 6476.867188\n",
      "====> Epoch: 14 Average loss: 6841.75588445\n",
      "*** Avg MSE: 4868.1156\n",
      "*** Avg KLD: 1973.64031693\n",
      "====> Test set loss: 7005.30836406\n",
      "*** Avg MSE: 5062.23068950\n",
      "*** Avg KLD: 1943.07769810\n",
      "Train Epoch: 15 [0/26634 (0%)]\tLoss: 6859.514160\n",
      "Train Epoch: 15 [6400/26634 (24%)]\tLoss: 6467.311523\n",
      "Train Epoch: 15 [12800/26634 (48%)]\tLoss: 6723.955078\n",
      "Train Epoch: 15 [19200/26634 (72%)]\tLoss: 7218.717773\n",
      "Train Epoch: 15 [25600/26634 (96%)]\tLoss: 6536.568359\n",
      "====> Epoch: 15 Average loss: 6750.29973026\n",
      "*** Avg MSE: 4796.2632\n",
      "*** Avg KLD: 1954.03655418\n",
      "====> Test set loss: 6831.03653353\n",
      "*** Avg MSE: 4929.37754349\n",
      "*** Avg KLD: 1901.65899708\n",
      "Train Epoch: 16 [0/26634 (0%)]\tLoss: 6677.527832\n",
      "Train Epoch: 16 [6400/26634 (24%)]\tLoss: 6900.991699\n",
      "Train Epoch: 16 [12800/26634 (48%)]\tLoss: 6604.424316\n",
      "Train Epoch: 16 [19200/26634 (72%)]\tLoss: 6856.136719\n",
      "Train Epoch: 16 [25600/26634 (96%)]\tLoss: 6403.422363\n",
      "====> Epoch: 16 Average loss: 6668.76829546\n",
      "*** Avg MSE: 4732.6086\n",
      "*** Avg KLD: 1936.15964381\n",
      "====> Test set loss: 6744.05168154\n",
      "*** Avg MSE: 4761.14116271\n",
      "*** Avg KLD: 1982.91048598\n",
      "Train Epoch: 17 [0/26634 (0%)]\tLoss: 6517.100586\n",
      "Train Epoch: 17 [6400/26634 (24%)]\tLoss: 6378.618164\n",
      "Train Epoch: 17 [12800/26634 (48%)]\tLoss: 6641.019531\n",
      "Train Epoch: 17 [19200/26634 (72%)]\tLoss: 6360.692871\n",
      "Train Epoch: 17 [25600/26634 (96%)]\tLoss: 6885.499023\n",
      "====> Epoch: 17 Average loss: 6594.83300539\n",
      "*** Avg MSE: 4672.3230\n",
      "*** Avg KLD: 1922.51005166\n",
      "====> Test set loss: 6650.90387445\n",
      "*** Avg MSE: 4712.26455948\n",
      "*** Avg KLD: 1938.63931270\n",
      "Train Epoch: 18 [0/26634 (0%)]\tLoss: 6726.915527\n",
      "Train Epoch: 18 [6400/26634 (24%)]\tLoss: 6491.830078\n",
      "Train Epoch: 18 [12800/26634 (48%)]\tLoss: 6348.690430\n",
      "Train Epoch: 18 [19200/26634 (72%)]\tLoss: 6438.784180\n",
      "Train Epoch: 18 [25600/26634 (96%)]\tLoss: 6475.808594\n",
      "====> Epoch: 18 Average loss: 6517.16629209\n",
      "*** Avg MSE: 4614.1082\n",
      "*** Avg KLD: 1903.05810602\n",
      "====> Test set loss: 6579.95432818\n",
      "*** Avg MSE: 4648.02026375\n",
      "*** Avg KLD: 1931.93406678\n",
      "Train Epoch: 19 [0/26634 (0%)]\tLoss: 6583.246094\n",
      "Train Epoch: 19 [6400/26634 (24%)]\tLoss: 6566.387695\n",
      "Train Epoch: 19 [12800/26634 (48%)]\tLoss: 6729.031250\n"
     ]
    },
    {
     "name": "stdout",
     "output_type": "stream",
     "text": [
      "Train Epoch: 19 [19200/26634 (72%)]\tLoss: 6548.353027\n",
      "Train Epoch: 19 [25600/26634 (96%)]\tLoss: 6437.306641\n",
      "====> Epoch: 19 Average loss: 6446.10071068\n",
      "*** Avg MSE: 4557.7379\n",
      "*** Avg KLD: 1888.36281332\n",
      "====> Test set loss: 6487.24717240\n",
      "*** Avg MSE: 4585.95629773\n",
      "*** Avg KLD: 1901.29088413\n",
      "Train Epoch: 20 [0/26634 (0%)]\tLoss: 6419.369141\n",
      "Train Epoch: 20 [6400/26634 (24%)]\tLoss: 6332.587891\n",
      "Train Epoch: 20 [12800/26634 (48%)]\tLoss: 6340.785156\n",
      "Train Epoch: 20 [19200/26634 (72%)]\tLoss: 6773.607422\n",
      "Train Epoch: 20 [25600/26634 (96%)]\tLoss: 6080.787598\n",
      "====> Epoch: 20 Average loss: 6390.67206009\n",
      "*** Avg MSE: 4514.9930\n",
      "*** Avg KLD: 1875.67903807\n",
      "====> Test set loss: 6429.08549865\n",
      "*** Avg MSE: 4528.63879868\n",
      "*** Avg KLD: 1900.44671867\n",
      "Train Epoch: 21 [0/26634 (0%)]\tLoss: 6329.476562\n",
      "Train Epoch: 21 [6400/26634 (24%)]\tLoss: 6139.691895\n",
      "Train Epoch: 21 [12800/26634 (48%)]\tLoss: 6593.655273\n",
      "Train Epoch: 21 [19200/26634 (72%)]\tLoss: 6771.357422\n",
      "Train Epoch: 21 [25600/26634 (96%)]\tLoss: 6014.887695\n",
      "====> Epoch: 21 Average loss: 6325.78244003\n",
      "*** Avg MSE: 4466.7812\n",
      "*** Avg KLD: 1859.00122835\n",
      "====> Test set loss: 6403.51730106\n",
      "*** Avg MSE: 4502.18382491\n",
      "*** Avg KLD: 1901.33348319\n",
      "Train Epoch: 22 [0/26634 (0%)]\tLoss: 5896.015625\n",
      "Train Epoch: 22 [6400/26634 (24%)]\tLoss: 6047.595703\n",
      "Train Epoch: 22 [12800/26634 (48%)]\tLoss: 6011.432617\n",
      "Train Epoch: 22 [19200/26634 (72%)]\tLoss: 6159.407715\n",
      "Train Epoch: 22 [25600/26634 (96%)]\tLoss: 6421.777344\n",
      "====> Epoch: 22 Average loss: 6262.42209910\n",
      "*** Avg MSE: 4416.0731\n",
      "*** Avg KLD: 1846.34896229\n",
      "====> Test set loss: 6351.75811700\n",
      "*** Avg MSE: 4557.06740870\n",
      "*** Avg KLD: 1794.69071306\n",
      "Train Epoch: 23 [0/26634 (0%)]\tLoss: 6352.122559\n",
      "Train Epoch: 23 [6400/26634 (24%)]\tLoss: 6431.395508\n",
      "Train Epoch: 23 [12800/26634 (48%)]\tLoss: 6101.396484\n",
      "Train Epoch: 23 [19200/26634 (72%)]\tLoss: 5889.307617\n",
      "Train Epoch: 23 [25600/26634 (96%)]\tLoss: 5906.887207\n",
      "====> Epoch: 23 Average loss: 6210.13775273\n",
      "*** Avg MSE: 4376.6265\n",
      "*** Avg KLD: 1833.51122413\n",
      "====> Test set loss: 6287.00976504\n",
      "*** Avg MSE: 4452.55103177\n",
      "*** Avg KLD: 1834.45874727\n",
      "Train Epoch: 24 [0/26634 (0%)]\tLoss: 6274.708984\n",
      "Train Epoch: 24 [6400/26634 (24%)]\tLoss: 6114.154785\n",
      "Train Epoch: 24 [12800/26634 (48%)]\tLoss: 6105.742188\n",
      "Train Epoch: 24 [19200/26634 (72%)]\tLoss: 6122.670898\n",
      "Train Epoch: 24 [25600/26634 (96%)]\tLoss: 5998.796875\n",
      "====> Epoch: 24 Average loss: 6158.00997462\n",
      "*** Avg MSE: 4335.6506\n",
      "*** Avg KLD: 1822.35934009\n",
      "====> Test set loss: 6208.24769280\n",
      "*** Avg MSE: 4375.63282687\n",
      "*** Avg KLD: 1832.61487997\n",
      "Train Epoch: 25 [0/26634 (0%)]\tLoss: 6016.395996\n",
      "Train Epoch: 25 [6400/26634 (24%)]\tLoss: 5855.747070\n",
      "Train Epoch: 25 [12800/26634 (48%)]\tLoss: 5966.646484\n",
      "Train Epoch: 25 [19200/26634 (72%)]\tLoss: 6118.201172\n",
      "Train Epoch: 25 [25600/26634 (96%)]\tLoss: 6412.015625\n",
      "====> Epoch: 25 Average loss: 6114.42463698\n",
      "*** Avg MSE: 4300.5562\n",
      "*** Avg KLD: 1813.86840320\n",
      "====> Test set loss: 6200.96314467\n",
      "*** Avg MSE: 4390.26957437\n",
      "*** Avg KLD: 1810.69357975\n",
      "Train Epoch: 26 [0/26634 (0%)]\tLoss: 6303.757812\n",
      "Train Epoch: 26 [6400/26634 (24%)]\tLoss: 5753.119141\n",
      "Train Epoch: 26 [12800/26634 (48%)]\tLoss: 5760.772461\n",
      "Train Epoch: 26 [19200/26634 (72%)]\tLoss: 5998.590820\n",
      "Train Epoch: 26 [25600/26634 (96%)]\tLoss: 6187.856934\n",
      "====> Epoch: 26 Average loss: 6068.90207271\n",
      "*** Avg MSE: 4264.9879\n",
      "*** Avg KLD: 1803.91421364\n",
      "====> Test set loss: 6125.93053352\n",
      "*** Avg MSE: 4321.74549136\n",
      "*** Avg KLD: 1804.18506090\n",
      "Train Epoch: 27 [0/26634 (0%)]\tLoss: 6325.100586\n",
      "Train Epoch: 27 [6400/26634 (24%)]\tLoss: 5833.028809\n",
      "Train Epoch: 27 [12800/26634 (48%)]\tLoss: 5893.215332\n",
      "Train Epoch: 27 [19200/26634 (72%)]\tLoss: 6010.716797\n",
      "Train Epoch: 27 [25600/26634 (96%)]\tLoss: 6011.924805\n",
      "====> Epoch: 27 Average loss: 6030.81902450\n",
      "*** Avg MSE: 4232.7332\n",
      "*** Avg KLD: 1798.08586673\n",
      "====> Test set loss: 6095.56030867\n",
      "*** Avg MSE: 4304.57990035\n",
      "*** Avg KLD: 1790.98042706\n",
      "Train Epoch: 28 [0/26634 (0%)]\tLoss: 6181.874023\n",
      "Train Epoch: 28 [6400/26634 (24%)]\tLoss: 5700.630859\n",
      "Train Epoch: 28 [12800/26634 (48%)]\tLoss: 6104.145020\n",
      "Train Epoch: 28 [19200/26634 (72%)]\tLoss: 5692.804688\n",
      "Train Epoch: 28 [25600/26634 (96%)]\tLoss: 6135.558594\n",
      "====> Epoch: 28 Average loss: 5988.15269868\n",
      "*** Avg MSE: 4198.4645\n",
      "*** Avg KLD: 1789.68818103\n",
      "====> Test set loss: 6111.03458040\n",
      "*** Avg MSE: 4326.79247930\n",
      "*** Avg KLD: 1784.24207999\n",
      "Train Epoch: 29 [0/26634 (0%)]\tLoss: 5929.757812\n",
      "Train Epoch: 29 [6400/26634 (24%)]\tLoss: 6060.195801\n",
      "Train Epoch: 29 [12800/26634 (48%)]\tLoss: 6116.061523\n",
      "Train Epoch: 29 [19200/26634 (72%)]\tLoss: 5529.692383\n",
      "Train Epoch: 29 [25600/26634 (96%)]\tLoss: 5771.562012\n",
      "====> Epoch: 29 Average loss: 5951.22596646\n",
      "*** Avg MSE: 4168.9759\n",
      "*** Avg KLD: 1782.25012188\n",
      "====> Test set loss: 6008.35998561\n",
      "*** Avg MSE: 4219.74575112\n",
      "*** Avg KLD: 1788.61423453\n",
      "Train Epoch: 30 [0/26634 (0%)]\tLoss: 6098.833496\n",
      "Train Epoch: 30 [6400/26634 (24%)]\tLoss: 5987.869141\n",
      "Train Epoch: 30 [12800/26634 (48%)]\tLoss: 5637.209473\n",
      "Train Epoch: 30 [19200/26634 (72%)]\tLoss: 5686.845215\n",
      "Train Epoch: 30 [25600/26634 (96%)]\tLoss: 5920.138672\n",
      "====> Epoch: 30 Average loss: 5912.98408563\n",
      "*** Avg MSE: 4139.6398\n",
      "*** Avg KLD: 1773.34427022\n",
      "====> Test set loss: 5974.48928568\n",
      "*** Avg MSE: 4241.20094277\n",
      "*** Avg KLD: 1733.28837577\n",
      "Train Epoch: 31 [0/26634 (0%)]\tLoss: 6325.988281\n",
      "Train Epoch: 31 [6400/26634 (24%)]\tLoss: 6134.102051\n",
      "Train Epoch: 31 [12800/26634 (48%)]\tLoss: 5816.629883\n",
      "Train Epoch: 31 [19200/26634 (72%)]\tLoss: 6066.812500\n",
      "Train Epoch: 31 [25600/26634 (96%)]\tLoss: 6170.147949\n",
      "====> Epoch: 31 Average loss: 5880.96150421\n",
      "*** Avg MSE: 4112.8303\n",
      "*** Avg KLD: 1768.13126072\n",
      "====> Test set loss: 5952.84745399\n",
      "*** Avg MSE: 4172.17754964\n",
      "*** Avg KLD: 1780.66990204\n",
      "Train Epoch: 32 [0/26634 (0%)]\tLoss: 5815.766113\n",
      "Train Epoch: 32 [6400/26634 (24%)]\tLoss: 6017.158203\n",
      "Train Epoch: 32 [12800/26634 (48%)]\tLoss: 5768.179199\n",
      "Train Epoch: 32 [19200/26634 (72%)]\tLoss: 6102.658203\n",
      "Train Epoch: 32 [25600/26634 (96%)]\tLoss: 6163.596680\n",
      "====> Epoch: 32 Average loss: 5847.25329231\n",
      "*** Avg MSE: 4083.5539\n",
      "*** Avg KLD: 1763.69938008\n",
      "====> Test set loss: 5931.40119470\n",
      "*** Avg MSE: 4196.34375513\n",
      "*** Avg KLD: 1735.05741375\n",
      "Train Epoch: 33 [0/26634 (0%)]\tLoss: 6094.337891\n",
      "Train Epoch: 33 [6400/26634 (24%)]\tLoss: 5671.135742\n",
      "Train Epoch: 33 [12800/26634 (48%)]\tLoss: 5618.359375\n",
      "Train Epoch: 33 [19200/26634 (72%)]\tLoss: 5450.759277\n",
      "Train Epoch: 33 [25600/26634 (96%)]\tLoss: 5771.668945\n",
      "====> Epoch: 33 Average loss: 5815.92551579\n",
      "*** Avg MSE: 4059.7922\n",
      "*** Avg KLD: 1756.13327039\n",
      "====> Test set loss: 5877.77545516\n",
      "*** Avg MSE: 4118.53997306\n",
      "*** Avg KLD: 1759.23548210\n",
      "Train Epoch: 34 [0/26634 (0%)]\tLoss: 5788.596680\n",
      "Train Epoch: 34 [6400/26634 (24%)]\tLoss: 5447.758789\n",
      "Train Epoch: 34 [12800/26634 (48%)]\tLoss: 5779.429199\n",
      "Train Epoch: 34 [19200/26634 (72%)]\tLoss: 5910.360352\n",
      "Train Epoch: 34 [25600/26634 (96%)]\tLoss: 5858.783691\n",
      "====> Epoch: 34 Average loss: 5787.32826213\n",
      "*** Avg MSE: 4033.7280\n",
      "*** Avg KLD: 1753.60025455\n",
      "====> Test set loss: 5858.86912244\n",
      "*** Avg MSE: 4120.34802954\n",
      "*** Avg KLD: 1738.52107889\n",
      "Train Epoch: 35 [0/26634 (0%)]\tLoss: 5295.367188\n",
      "Train Epoch: 35 [6400/26634 (24%)]\tLoss: 5550.356934\n",
      "Train Epoch: 35 [12800/26634 (48%)]\tLoss: 5797.987305\n",
      "Train Epoch: 35 [19200/26634 (72%)]\tLoss: 5549.803711\n",
      "Train Epoch: 35 [25600/26634 (96%)]\tLoss: 5439.979004\n",
      "====> Epoch: 35 Average loss: 5761.16241106\n",
      "*** Avg MSE: 4011.8890\n",
      "*** Avg KLD: 1749.27344234\n",
      "====> Test set loss: 5835.11962187\n",
      "*** Avg MSE: 4096.14022106\n",
      "*** Avg KLD: 1738.97939612\n",
      "Train Epoch: 36 [0/26634 (0%)]\tLoss: 5808.945801\n",
      "Train Epoch: 36 [6400/26634 (24%)]\tLoss: 5777.905273\n",
      "Train Epoch: 36 [12800/26634 (48%)]\tLoss: 5569.235352\n",
      "Train Epoch: 36 [19200/26634 (72%)]\tLoss: 5850.156250\n",
      "Train Epoch: 36 [25600/26634 (96%)]\tLoss: 5422.714355\n",
      "====> Epoch: 36 Average loss: 5734.55977176\n",
      "*** Avg MSE: 3989.1337\n",
      "*** Avg KLD: 1745.42610061\n",
      "====> Test set loss: 5808.33874523\n",
      "*** Avg MSE: 4061.82663287\n",
      "*** Avg KLD: 1746.51207011\n",
      "Train Epoch: 37 [0/26634 (0%)]\tLoss: 5842.413086\n",
      "Train Epoch: 37 [6400/26634 (24%)]\tLoss: 5713.710938\n",
      "Train Epoch: 37 [12800/26634 (48%)]\tLoss: 5633.538086\n",
      "Train Epoch: 37 [19200/26634 (72%)]\tLoss: 5866.391602\n",
      "Train Epoch: 37 [25600/26634 (96%)]\tLoss: 5524.765625\n"
     ]
    },
    {
     "name": "stdout",
     "output_type": "stream",
     "text": [
      "====> Epoch: 37 Average loss: 5710.90395984\n",
      "*** Avg MSE: 3968.6072\n",
      "*** Avg KLD: 1742.29674066\n",
      "====> Test set loss: 5801.52202238\n",
      "*** Avg MSE: 4056.61816604\n",
      "*** Avg KLD: 1744.90389865\n",
      "Train Epoch: 38 [0/26634 (0%)]\tLoss: 5655.488281\n",
      "Train Epoch: 38 [6400/26634 (24%)]\tLoss: 5381.791016\n",
      "Train Epoch: 38 [12800/26634 (48%)]\tLoss: 5512.468750\n",
      "Train Epoch: 38 [19200/26634 (72%)]\tLoss: 5897.474121\n",
      "Train Epoch: 38 [25600/26634 (96%)]\tLoss: 6009.831055\n",
      "====> Epoch: 38 Average loss: 5685.60875256\n",
      "*** Avg MSE: 3947.4580\n",
      "*** Avg KLD: 1738.15070423\n",
      "====> Test set loss: 5783.81465114\n",
      "*** Avg MSE: 4021.17515143\n",
      "*** Avg KLD: 1762.63947162\n",
      "Train Epoch: 39 [0/26634 (0%)]\tLoss: 5647.678223\n",
      "Train Epoch: 39 [6400/26634 (24%)]\tLoss: 5621.911133\n",
      "Train Epoch: 39 [12800/26634 (48%)]\tLoss: 5911.040039\n",
      "Train Epoch: 39 [19200/26634 (72%)]\tLoss: 5518.864258\n",
      "Train Epoch: 39 [25600/26634 (96%)]\tLoss: 5564.152344\n",
      "====> Epoch: 39 Average loss: 5658.35619210\n",
      "*** Avg MSE: 3923.6586\n",
      "*** Avg KLD: 1734.69760537\n",
      "====> Test set loss: 5738.35546435\n",
      "*** Avg MSE: 4008.68142311\n",
      "*** Avg KLD: 1729.67402251\n",
      "Train Epoch: 40 [0/26634 (0%)]\tLoss: 5801.942383\n",
      "Train Epoch: 40 [6400/26634 (24%)]\tLoss: 5401.506836\n",
      "Train Epoch: 40 [12800/26634 (48%)]\tLoss: 6195.904297\n",
      "Train Epoch: 40 [19200/26634 (72%)]\tLoss: 5245.627930\n",
      "Train Epoch: 40 [25600/26634 (96%)]\tLoss: 5575.443848\n",
      "====> Epoch: 40 Average loss: 5644.41085026\n",
      "*** Avg MSE: 3910.1559\n",
      "*** Avg KLD: 1734.25496714\n",
      "====> Test set loss: 5713.66871034\n",
      "*** Avg MSE: 3985.41112467\n",
      "*** Avg KLD: 1728.25755978\n",
      "Train Epoch: 41 [0/26634 (0%)]\tLoss: 5830.448242\n",
      "Train Epoch: 41 [6400/26634 (24%)]\tLoss: 5559.075195\n",
      "Train Epoch: 41 [12800/26634 (48%)]\tLoss: 5532.875977\n",
      "Train Epoch: 41 [19200/26634 (72%)]\tLoss: 5418.105469\n",
      "Train Epoch: 41 [25600/26634 (96%)]\tLoss: 5262.911133\n",
      "====> Epoch: 41 Average loss: 5618.75138656\n",
      "*** Avg MSE: 3885.8433\n",
      "*** Avg KLD: 1732.90810504\n",
      "====> Test set loss: 5703.47142682\n",
      "*** Avg MSE: 3989.59620593\n",
      "*** Avg KLD: 1713.87522331\n",
      "Train Epoch: 42 [0/26634 (0%)]\tLoss: 5454.717773\n",
      "Train Epoch: 42 [6400/26634 (24%)]\tLoss: 5647.163086\n",
      "Train Epoch: 42 [12800/26634 (48%)]\tLoss: 5387.705566\n",
      "Train Epoch: 42 [19200/26634 (72%)]\tLoss: 5416.718750\n",
      "Train Epoch: 42 [25600/26634 (96%)]\tLoss: 5319.647461\n",
      "====> Epoch: 42 Average loss: 5598.51504817\n",
      "*** Avg MSE: 3868.1615\n",
      "*** Avg KLD: 1730.35355621\n",
      "====> Test set loss: 5685.71827184\n",
      "*** Avg MSE: 3920.41602457\n",
      "*** Avg KLD: 1765.30225427\n",
      "Train Epoch: 43 [0/26634 (0%)]\tLoss: 5701.906738\n",
      "Train Epoch: 43 [6400/26634 (24%)]\tLoss: 5500.607422\n",
      "Train Epoch: 43 [12800/26634 (48%)]\tLoss: 5437.924316\n",
      "Train Epoch: 43 [19200/26634 (72%)]\tLoss: 6044.160156\n",
      "Train Epoch: 43 [25600/26634 (96%)]\tLoss: 5461.319336\n",
      "====> Epoch: 43 Average loss: 5578.25903685\n",
      "*** Avg MSE: 3851.7026\n",
      "*** Avg KLD: 1726.55646444\n",
      "====> Test set loss: 5667.68950901\n",
      "*** Avg MSE: 3924.55081924\n",
      "*** Avg KLD: 1743.13872497\n",
      "Train Epoch: 44 [0/26634 (0%)]\tLoss: 5755.949707\n",
      "Train Epoch: 44 [6400/26634 (24%)]\tLoss: 5345.744141\n",
      "Train Epoch: 44 [12800/26634 (48%)]\tLoss: 5701.024414\n",
      "Train Epoch: 44 [19200/26634 (72%)]\tLoss: 5352.074707\n",
      "Train Epoch: 44 [25600/26634 (96%)]\tLoss: 5442.927246\n",
      "====> Epoch: 44 Average loss: 5556.15520517\n",
      "*** Avg MSE: 3832.6548\n",
      "*** Avg KLD: 1723.50034591\n",
      "====> Test set loss: 5643.62549870\n",
      "*** Avg MSE: 3917.27256310\n",
      "*** Avg KLD: 1726.35295203\n",
      "Train Epoch: 45 [0/26634 (0%)]\tLoss: 5473.402832\n",
      "Train Epoch: 45 [6400/26634 (24%)]\tLoss: 5312.709961\n",
      "Train Epoch: 45 [12800/26634 (48%)]\tLoss: 5339.351074\n",
      "Train Epoch: 45 [19200/26634 (72%)]\tLoss: 5780.330078\n",
      "Train Epoch: 45 [25600/26634 (96%)]\tLoss: 5587.617676\n",
      "====> Epoch: 45 Average loss: 5536.82820831\n",
      "*** Avg MSE: 3814.8278\n",
      "*** Avg KLD: 1722.00042291\n",
      "====> Test set loss: 5637.79944401\n",
      "*** Avg MSE: 3920.31515761\n",
      "*** Avg KLD: 1717.48428175\n",
      "Train Epoch: 46 [0/26634 (0%)]\tLoss: 5781.737305\n",
      "Train Epoch: 46 [6400/26634 (24%)]\tLoss: 5730.213379\n",
      "Train Epoch: 46 [12800/26634 (48%)]\tLoss: 5867.104004\n",
      "Train Epoch: 46 [19200/26634 (72%)]\tLoss: 5787.188477\n",
      "Train Epoch: 46 [25600/26634 (96%)]\tLoss: 5441.747070\n",
      "====> Epoch: 46 Average loss: 5524.45694325\n",
      "*** Avg MSE: 3805.9816\n",
      "*** Avg KLD: 1718.47533786\n",
      "====> Test set loss: 5600.85679176\n",
      "*** Avg MSE: 3871.30679757\n",
      "*** Avg KLD: 1729.54999177\n",
      "Train Epoch: 47 [0/26634 (0%)]\tLoss: 5363.379883\n",
      "Train Epoch: 47 [6400/26634 (24%)]\tLoss: 5412.987793\n",
      "Train Epoch: 47 [12800/26634 (48%)]\tLoss: 5435.466309\n",
      "Train Epoch: 47 [19200/26634 (72%)]\tLoss: 5431.339355\n",
      "Train Epoch: 47 [25600/26634 (96%)]\tLoss: 5527.173340\n",
      "====> Epoch: 47 Average loss: 5507.31465655\n",
      "*** Avg MSE: 3788.1326\n",
      "*** Avg KLD: 1719.18209946\n",
      "====> Test set loss: 5591.26069488\n",
      "*** Avg MSE: 3905.67919643\n",
      "*** Avg KLD: 1685.58148437\n",
      "Train Epoch: 48 [0/26634 (0%)]\tLoss: 5805.644043\n",
      "Train Epoch: 48 [6400/26634 (24%)]\tLoss: 5579.947754\n",
      "Train Epoch: 48 [12800/26634 (48%)]\tLoss: 5470.949707\n",
      "Train Epoch: 48 [19200/26634 (72%)]\tLoss: 5733.407227\n",
      "Train Epoch: 48 [25600/26634 (96%)]\tLoss: 5573.465820\n",
      "====> Epoch: 48 Average loss: 5487.36346986\n",
      "*** Avg MSE: 3769.1946\n",
      "*** Avg KLD: 1718.16887752\n",
      "====> Test set loss: 5569.21942969\n",
      "*** Avg MSE: 3859.37616981\n",
      "*** Avg KLD: 1709.84325046\n",
      "Train Epoch: 49 [0/26634 (0%)]\tLoss: 5467.466309\n",
      "Train Epoch: 49 [6400/26634 (24%)]\tLoss: 5254.148438\n",
      "Train Epoch: 49 [12800/26634 (48%)]\tLoss: 5870.963379\n",
      "Train Epoch: 49 [19200/26634 (72%)]\tLoss: 5596.887695\n",
      "Train Epoch: 49 [25600/26634 (96%)]\tLoss: 5456.010742\n",
      "====> Epoch: 49 Average loss: 5469.49687855\n",
      "*** Avg MSE: 3755.1471\n",
      "*** Avg KLD: 1714.34973111\n",
      "====> Test set loss: 5569.41592469\n",
      "*** Avg MSE: 3856.50513377\n",
      "*** Avg KLD: 1712.91075571\n",
      "Train Epoch: 50 [0/26634 (0%)]\tLoss: 5761.316406\n",
      "Train Epoch: 50 [6400/26634 (24%)]\tLoss: 5721.426758\n",
      "Train Epoch: 50 [12800/26634 (48%)]\tLoss: 5712.455566\n",
      "Train Epoch: 50 [19200/26634 (72%)]\tLoss: 5575.764648\n",
      "Train Epoch: 50 [25600/26634 (96%)]\tLoss: 5535.316895\n",
      "====> Epoch: 50 Average loss: 5456.88652163\n",
      "*** Avg MSE: 3742.4188\n",
      "*** Avg KLD: 1714.46774968\n",
      "====> Test set loss: 5526.44836334\n",
      "*** Avg MSE: 3829.16132848\n",
      "*** Avg KLD: 1697.28700678\n",
      "Train Epoch: 51 [0/26634 (0%)]\tLoss: 5516.096191\n",
      "Train Epoch: 51 [6400/26634 (24%)]\tLoss: 5498.425781\n",
      "Train Epoch: 51 [12800/26634 (48%)]\tLoss: 5367.140625\n",
      "Train Epoch: 51 [19200/26634 (72%)]\tLoss: 5566.087891\n",
      "Train Epoch: 51 [25600/26634 (96%)]\tLoss: 5355.614258\n",
      "====> Epoch: 51 Average loss: 5438.69233654\n",
      "*** Avg MSE: 3726.2881\n",
      "*** Avg KLD: 1712.40420433\n",
      "====> Test set loss: 5527.38668589\n",
      "*** Avg MSE: 3818.84027791\n",
      "*** Avg KLD: 1708.54640557\n",
      "Train Epoch: 52 [0/26634 (0%)]\tLoss: 5700.575195\n",
      "Train Epoch: 52 [6400/26634 (24%)]\tLoss: 5206.091797\n",
      "Train Epoch: 52 [12800/26634 (48%)]\tLoss: 5508.509766\n",
      "Train Epoch: 52 [19200/26634 (72%)]\tLoss: 5103.323242\n",
      "Train Epoch: 52 [25600/26634 (96%)]\tLoss: 5434.902344\n",
      "====> Epoch: 52 Average loss: 5422.53319418\n",
      "*** Avg MSE: 3711.2929\n",
      "*** Avg KLD: 1711.24030037\n",
      "====> Test set loss: 5503.81033273\n",
      "*** Avg MSE: 3815.03709104\n",
      "*** Avg KLD: 1688.77323700\n",
      "Train Epoch: 53 [0/26634 (0%)]\tLoss: 4787.247070\n",
      "Train Epoch: 53 [6400/26634 (24%)]\tLoss: 5475.192383\n",
      "Train Epoch: 53 [12800/26634 (48%)]\tLoss: 5537.421387\n",
      "Train Epoch: 53 [19200/26634 (72%)]\tLoss: 5701.707520\n",
      "Train Epoch: 53 [25600/26634 (96%)]\tLoss: 5232.513672\n",
      "====> Epoch: 53 Average loss: 5408.44964554\n",
      "*** Avg MSE: 3698.9549\n",
      "*** Avg KLD: 1709.49473175\n",
      "====> Test set loss: 5557.99132593\n",
      "*** Avg MSE: 3877.90594030\n",
      "*** Avg KLD: 1680.08534097\n",
      "Train Epoch: 54 [0/26634 (0%)]\tLoss: 5679.550293\n",
      "Train Epoch: 54 [6400/26634 (24%)]\tLoss: 5409.336914\n",
      "Train Epoch: 54 [12800/26634 (48%)]\tLoss: 5140.812500\n",
      "Train Epoch: 54 [19200/26634 (72%)]\tLoss: 5649.754883\n",
      "Train Epoch: 54 [25600/26634 (96%)]\tLoss: 5444.390137\n",
      "====> Epoch: 54 Average loss: 5397.34262567\n",
      "*** Avg MSE: 3688.3457\n",
      "*** Avg KLD: 1708.99690444\n",
      "====> Test set loss: 5473.53359797\n",
      "*** Avg MSE: 3757.43061793\n",
      "*** Avg KLD: 1716.10295892\n",
      "Train Epoch: 55 [0/26634 (0%)]\tLoss: 5502.380859\n",
      "Train Epoch: 55 [6400/26634 (24%)]\tLoss: 5098.714355\n",
      "Train Epoch: 55 [12800/26634 (48%)]\tLoss: 5472.412598\n",
      "Train Epoch: 55 [19200/26634 (72%)]\tLoss: 5576.043945\n"
     ]
    },
    {
     "ename": "KeyboardInterrupt",
     "evalue": "",
     "output_type": "error",
     "traceback": [
      "\u001b[1;31m---------------------------------------------------------------------------\u001b[0m",
      "\u001b[1;31mKeyboardInterrupt\u001b[0m                         Traceback (most recent call last)",
      "\u001b[1;32m<ipython-input-11-6b6e44342712>\u001b[0m in \u001b[0;36m<module>\u001b[1;34m\u001b[0m\n\u001b[0;32m     13\u001b[0m \u001b[0mepochs\u001b[0m \u001b[1;33m=\u001b[0m \u001b[1;36m60\u001b[0m\u001b[1;33m\u001b[0m\u001b[1;33m\u001b[0m\u001b[0m\n\u001b[0;32m     14\u001b[0m \u001b[1;32mfor\u001b[0m \u001b[0mepoch\u001b[0m \u001b[1;32min\u001b[0m \u001b[0mrange\u001b[0m\u001b[1;33m(\u001b[0m\u001b[1;36m1\u001b[0m\u001b[1;33m,\u001b[0m \u001b[0mepochs\u001b[0m \u001b[1;33m+\u001b[0m \u001b[1;36m1\u001b[0m\u001b[1;33m)\u001b[0m\u001b[1;33m:\u001b[0m\u001b[1;33m\u001b[0m\u001b[1;33m\u001b[0m\u001b[0m\n\u001b[1;32m---> 15\u001b[1;33m         \u001b[0mloss\u001b[0m\u001b[1;33m,\u001b[0m \u001b[0mmse\u001b[0m\u001b[1;33m,\u001b[0m \u001b[0mkld\u001b[0m \u001b[1;33m=\u001b[0m \u001b[0mtrain\u001b[0m\u001b[1;33m(\u001b[0m\u001b[0mepoch\u001b[0m\u001b[1;33m,\u001b[0m \u001b[0mtrain_data\u001b[0m\u001b[1;33m)\u001b[0m\u001b[1;33m\u001b[0m\u001b[1;33m\u001b[0m\u001b[0m\n\u001b[0m\u001b[0;32m     16\u001b[0m         \u001b[0mtrain_trace\u001b[0m\u001b[1;33m[\u001b[0m\u001b[1;34m'loss'\u001b[0m\u001b[1;33m]\u001b[0m\u001b[1;33m.\u001b[0m\u001b[0mappend\u001b[0m\u001b[1;33m(\u001b[0m\u001b[0mloss\u001b[0m\u001b[1;33m)\u001b[0m\u001b[1;33m\u001b[0m\u001b[1;33m\u001b[0m\u001b[0m\n\u001b[0;32m     17\u001b[0m         \u001b[0mtrain_trace\u001b[0m\u001b[1;33m[\u001b[0m\u001b[1;34m'mse'\u001b[0m\u001b[1;33m]\u001b[0m\u001b[1;33m.\u001b[0m\u001b[0mappend\u001b[0m\u001b[1;33m(\u001b[0m\u001b[0mmse\u001b[0m\u001b[1;33m)\u001b[0m\u001b[1;33m\u001b[0m\u001b[1;33m\u001b[0m\u001b[0m\n",
      "\u001b[1;32m<ipython-input-7-2d13bff09125>\u001b[0m in \u001b[0;36mtrain\u001b[1;34m(epoch, train_loader)\u001b[0m\n\u001b[0;32m      4\u001b[0m     \u001b[0mtrain_mse\u001b[0m \u001b[1;33m=\u001b[0m \u001b[1;36m0\u001b[0m\u001b[1;33m\u001b[0m\u001b[1;33m\u001b[0m\u001b[0m\n\u001b[0;32m      5\u001b[0m     \u001b[0mtrain_kld\u001b[0m \u001b[1;33m=\u001b[0m \u001b[1;36m0\u001b[0m\u001b[1;33m\u001b[0m\u001b[1;33m\u001b[0m\u001b[0m\n\u001b[1;32m----> 6\u001b[1;33m     \u001b[1;32mfor\u001b[0m \u001b[0mbatch_idx\u001b[0m\u001b[1;33m,\u001b[0m \u001b[1;33m(\u001b[0m\u001b[0mdata\u001b[0m\u001b[1;33m,\u001b[0m \u001b[0m_\u001b[0m\u001b[1;33m)\u001b[0m \u001b[1;32min\u001b[0m \u001b[0menumerate\u001b[0m\u001b[1;33m(\u001b[0m\u001b[0mtrain_loader\u001b[0m\u001b[1;33m)\u001b[0m\u001b[1;33m:\u001b[0m\u001b[1;33m\u001b[0m\u001b[1;33m\u001b[0m\u001b[0m\n\u001b[0m\u001b[0;32m      7\u001b[0m         \u001b[0mdata\u001b[0m \u001b[1;33m=\u001b[0m \u001b[0mdata\u001b[0m\u001b[1;33m.\u001b[0m\u001b[0mto\u001b[0m\u001b[1;33m(\u001b[0m\u001b[0mdevice\u001b[0m\u001b[1;33m)\u001b[0m\u001b[1;33m\u001b[0m\u001b[1;33m\u001b[0m\u001b[0m\n\u001b[0;32m      8\u001b[0m         \u001b[0moptimizer\u001b[0m\u001b[1;33m.\u001b[0m\u001b[0mzero_grad\u001b[0m\u001b[1;33m(\u001b[0m\u001b[1;33m)\u001b[0m\u001b[1;33m\u001b[0m\u001b[1;33m\u001b[0m\u001b[0m\n",
      "\u001b[1;32mD:\\Anaconda3\\lib\\site-packages\\torch\\utils\\data\\dataloader.py\u001b[0m in \u001b[0;36m__next__\u001b[1;34m(self)\u001b[0m\n\u001b[0;32m    344\u001b[0m     \u001b[1;32mdef\u001b[0m \u001b[0m__next__\u001b[0m\u001b[1;33m(\u001b[0m\u001b[0mself\u001b[0m\u001b[1;33m)\u001b[0m\u001b[1;33m:\u001b[0m\u001b[1;33m\u001b[0m\u001b[1;33m\u001b[0m\u001b[0m\n\u001b[0;32m    345\u001b[0m         \u001b[0mindex\u001b[0m \u001b[1;33m=\u001b[0m \u001b[0mself\u001b[0m\u001b[1;33m.\u001b[0m\u001b[0m_next_index\u001b[0m\u001b[1;33m(\u001b[0m\u001b[1;33m)\u001b[0m  \u001b[1;31m# may raise StopIteration\u001b[0m\u001b[1;33m\u001b[0m\u001b[1;33m\u001b[0m\u001b[0m\n\u001b[1;32m--> 346\u001b[1;33m         \u001b[0mdata\u001b[0m \u001b[1;33m=\u001b[0m \u001b[0mself\u001b[0m\u001b[1;33m.\u001b[0m\u001b[0m_dataset_fetcher\u001b[0m\u001b[1;33m.\u001b[0m\u001b[0mfetch\u001b[0m\u001b[1;33m(\u001b[0m\u001b[0mindex\u001b[0m\u001b[1;33m)\u001b[0m  \u001b[1;31m# may raise StopIteration\u001b[0m\u001b[1;33m\u001b[0m\u001b[1;33m\u001b[0m\u001b[0m\n\u001b[0m\u001b[0;32m    347\u001b[0m         \u001b[1;32mif\u001b[0m \u001b[0mself\u001b[0m\u001b[1;33m.\u001b[0m\u001b[0m_pin_memory\u001b[0m\u001b[1;33m:\u001b[0m\u001b[1;33m\u001b[0m\u001b[1;33m\u001b[0m\u001b[0m\n\u001b[0;32m    348\u001b[0m             \u001b[0mdata\u001b[0m \u001b[1;33m=\u001b[0m \u001b[0m_utils\u001b[0m\u001b[1;33m.\u001b[0m\u001b[0mpin_memory\u001b[0m\u001b[1;33m.\u001b[0m\u001b[0mpin_memory\u001b[0m\u001b[1;33m(\u001b[0m\u001b[0mdata\u001b[0m\u001b[1;33m)\u001b[0m\u001b[1;33m\u001b[0m\u001b[1;33m\u001b[0m\u001b[0m\n",
      "\u001b[1;32mD:\\Anaconda3\\lib\\site-packages\\torch\\utils\\data\\_utils\\fetch.py\u001b[0m in \u001b[0;36mfetch\u001b[1;34m(self, possibly_batched_index)\u001b[0m\n\u001b[0;32m     42\u001b[0m     \u001b[1;32mdef\u001b[0m \u001b[0mfetch\u001b[0m\u001b[1;33m(\u001b[0m\u001b[0mself\u001b[0m\u001b[1;33m,\u001b[0m \u001b[0mpossibly_batched_index\u001b[0m\u001b[1;33m)\u001b[0m\u001b[1;33m:\u001b[0m\u001b[1;33m\u001b[0m\u001b[1;33m\u001b[0m\u001b[0m\n\u001b[0;32m     43\u001b[0m         \u001b[1;32mif\u001b[0m \u001b[0mself\u001b[0m\u001b[1;33m.\u001b[0m\u001b[0mauto_collation\u001b[0m\u001b[1;33m:\u001b[0m\u001b[1;33m\u001b[0m\u001b[1;33m\u001b[0m\u001b[0m\n\u001b[1;32m---> 44\u001b[1;33m             \u001b[0mdata\u001b[0m \u001b[1;33m=\u001b[0m \u001b[1;33m[\u001b[0m\u001b[0mself\u001b[0m\u001b[1;33m.\u001b[0m\u001b[0mdataset\u001b[0m\u001b[1;33m[\u001b[0m\u001b[0midx\u001b[0m\u001b[1;33m]\u001b[0m \u001b[1;32mfor\u001b[0m \u001b[0midx\u001b[0m \u001b[1;32min\u001b[0m \u001b[0mpossibly_batched_index\u001b[0m\u001b[1;33m]\u001b[0m\u001b[1;33m\u001b[0m\u001b[1;33m\u001b[0m\u001b[0m\n\u001b[0m\u001b[0;32m     45\u001b[0m         \u001b[1;32melse\u001b[0m\u001b[1;33m:\u001b[0m\u001b[1;33m\u001b[0m\u001b[1;33m\u001b[0m\u001b[0m\n\u001b[0;32m     46\u001b[0m             \u001b[0mdata\u001b[0m \u001b[1;33m=\u001b[0m \u001b[0mself\u001b[0m\u001b[1;33m.\u001b[0m\u001b[0mdataset\u001b[0m\u001b[1;33m[\u001b[0m\u001b[0mpossibly_batched_index\u001b[0m\u001b[1;33m]\u001b[0m\u001b[1;33m\u001b[0m\u001b[1;33m\u001b[0m\u001b[0m\n",
      "\u001b[1;32mD:\\Anaconda3\\lib\\site-packages\\torch\\utils\\data\\_utils\\fetch.py\u001b[0m in \u001b[0;36m<listcomp>\u001b[1;34m(.0)\u001b[0m\n\u001b[0;32m     42\u001b[0m     \u001b[1;32mdef\u001b[0m \u001b[0mfetch\u001b[0m\u001b[1;33m(\u001b[0m\u001b[0mself\u001b[0m\u001b[1;33m,\u001b[0m \u001b[0mpossibly_batched_index\u001b[0m\u001b[1;33m)\u001b[0m\u001b[1;33m:\u001b[0m\u001b[1;33m\u001b[0m\u001b[1;33m\u001b[0m\u001b[0m\n\u001b[0;32m     43\u001b[0m         \u001b[1;32mif\u001b[0m \u001b[0mself\u001b[0m\u001b[1;33m.\u001b[0m\u001b[0mauto_collation\u001b[0m\u001b[1;33m:\u001b[0m\u001b[1;33m\u001b[0m\u001b[1;33m\u001b[0m\u001b[0m\n\u001b[1;32m---> 44\u001b[1;33m             \u001b[0mdata\u001b[0m \u001b[1;33m=\u001b[0m \u001b[1;33m[\u001b[0m\u001b[0mself\u001b[0m\u001b[1;33m.\u001b[0m\u001b[0mdataset\u001b[0m\u001b[1;33m[\u001b[0m\u001b[0midx\u001b[0m\u001b[1;33m]\u001b[0m \u001b[1;32mfor\u001b[0m \u001b[0midx\u001b[0m \u001b[1;32min\u001b[0m \u001b[0mpossibly_batched_index\u001b[0m\u001b[1;33m]\u001b[0m\u001b[1;33m\u001b[0m\u001b[1;33m\u001b[0m\u001b[0m\n\u001b[0m\u001b[0;32m     45\u001b[0m         \u001b[1;32melse\u001b[0m\u001b[1;33m:\u001b[0m\u001b[1;33m\u001b[0m\u001b[1;33m\u001b[0m\u001b[0m\n\u001b[0;32m     46\u001b[0m             \u001b[0mdata\u001b[0m \u001b[1;33m=\u001b[0m \u001b[0mself\u001b[0m\u001b[1;33m.\u001b[0m\u001b[0mdataset\u001b[0m\u001b[1;33m[\u001b[0m\u001b[0mpossibly_batched_index\u001b[0m\u001b[1;33m]\u001b[0m\u001b[1;33m\u001b[0m\u001b[1;33m\u001b[0m\u001b[0m\n",
      "\u001b[1;32mD:\\Anaconda3\\lib\\site-packages\\torch\\utils\\data\\dataset.py\u001b[0m in \u001b[0;36m__getitem__\u001b[1;34m(self, idx)\u001b[0m\n\u001b[0;32m    255\u001b[0m \u001b[1;33m\u001b[0m\u001b[0m\n\u001b[0;32m    256\u001b[0m     \u001b[1;32mdef\u001b[0m \u001b[0m__getitem__\u001b[0m\u001b[1;33m(\u001b[0m\u001b[0mself\u001b[0m\u001b[1;33m,\u001b[0m \u001b[0midx\u001b[0m\u001b[1;33m)\u001b[0m\u001b[1;33m:\u001b[0m\u001b[1;33m\u001b[0m\u001b[1;33m\u001b[0m\u001b[0m\n\u001b[1;32m--> 257\u001b[1;33m         \u001b[1;32mreturn\u001b[0m \u001b[0mself\u001b[0m\u001b[1;33m.\u001b[0m\u001b[0mdataset\u001b[0m\u001b[1;33m[\u001b[0m\u001b[0mself\u001b[0m\u001b[1;33m.\u001b[0m\u001b[0mindices\u001b[0m\u001b[1;33m[\u001b[0m\u001b[0midx\u001b[0m\u001b[1;33m]\u001b[0m\u001b[1;33m]\u001b[0m\u001b[1;33m\u001b[0m\u001b[1;33m\u001b[0m\u001b[0m\n\u001b[0m\u001b[0;32m    258\u001b[0m \u001b[1;33m\u001b[0m\u001b[0m\n\u001b[0;32m    259\u001b[0m     \u001b[1;32mdef\u001b[0m \u001b[0m__len__\u001b[0m\u001b[1;33m(\u001b[0m\u001b[0mself\u001b[0m\u001b[1;33m)\u001b[0m\u001b[1;33m:\u001b[0m\u001b[1;33m\u001b[0m\u001b[1;33m\u001b[0m\u001b[0m\n",
      "\u001b[1;32mD:\\Anaconda3\\lib\\site-packages\\torch\\utils\\data\\dataset.py\u001b[0m in \u001b[0;36m__getitem__\u001b[1;34m(self, idx)\u001b[0m\n\u001b[0;32m    255\u001b[0m \u001b[1;33m\u001b[0m\u001b[0m\n\u001b[0;32m    256\u001b[0m     \u001b[1;32mdef\u001b[0m \u001b[0m__getitem__\u001b[0m\u001b[1;33m(\u001b[0m\u001b[0mself\u001b[0m\u001b[1;33m,\u001b[0m \u001b[0midx\u001b[0m\u001b[1;33m)\u001b[0m\u001b[1;33m:\u001b[0m\u001b[1;33m\u001b[0m\u001b[1;33m\u001b[0m\u001b[0m\n\u001b[1;32m--> 257\u001b[1;33m         \u001b[1;32mreturn\u001b[0m \u001b[0mself\u001b[0m\u001b[1;33m.\u001b[0m\u001b[0mdataset\u001b[0m\u001b[1;33m[\u001b[0m\u001b[0mself\u001b[0m\u001b[1;33m.\u001b[0m\u001b[0mindices\u001b[0m\u001b[1;33m[\u001b[0m\u001b[0midx\u001b[0m\u001b[1;33m]\u001b[0m\u001b[1;33m]\u001b[0m\u001b[1;33m\u001b[0m\u001b[1;33m\u001b[0m\u001b[0m\n\u001b[0m\u001b[0;32m    258\u001b[0m \u001b[1;33m\u001b[0m\u001b[0m\n\u001b[0;32m    259\u001b[0m     \u001b[1;32mdef\u001b[0m \u001b[0m__len__\u001b[0m\u001b[1;33m(\u001b[0m\u001b[0mself\u001b[0m\u001b[1;33m)\u001b[0m\u001b[1;33m:\u001b[0m\u001b[1;33m\u001b[0m\u001b[1;33m\u001b[0m\u001b[0m\n",
      "\u001b[1;32mD:\\Anaconda3\\lib\\site-packages\\torchvision\\datasets\\folder.py\u001b[0m in \u001b[0;36m__getitem__\u001b[1;34m(self, index)\u001b[0m\n\u001b[0;32m    136\u001b[0m         \"\"\"\n\u001b[0;32m    137\u001b[0m         \u001b[0mpath\u001b[0m\u001b[1;33m,\u001b[0m \u001b[0mtarget\u001b[0m \u001b[1;33m=\u001b[0m \u001b[0mself\u001b[0m\u001b[1;33m.\u001b[0m\u001b[0msamples\u001b[0m\u001b[1;33m[\u001b[0m\u001b[0mindex\u001b[0m\u001b[1;33m]\u001b[0m\u001b[1;33m\u001b[0m\u001b[1;33m\u001b[0m\u001b[0m\n\u001b[1;32m--> 138\u001b[1;33m         \u001b[0msample\u001b[0m \u001b[1;33m=\u001b[0m \u001b[0mself\u001b[0m\u001b[1;33m.\u001b[0m\u001b[0mloader\u001b[0m\u001b[1;33m(\u001b[0m\u001b[0mpath\u001b[0m\u001b[1;33m)\u001b[0m\u001b[1;33m\u001b[0m\u001b[1;33m\u001b[0m\u001b[0m\n\u001b[0m\u001b[0;32m    139\u001b[0m         \u001b[1;32mif\u001b[0m \u001b[0mself\u001b[0m\u001b[1;33m.\u001b[0m\u001b[0mtransform\u001b[0m \u001b[1;32mis\u001b[0m \u001b[1;32mnot\u001b[0m \u001b[1;32mNone\u001b[0m\u001b[1;33m:\u001b[0m\u001b[1;33m\u001b[0m\u001b[1;33m\u001b[0m\u001b[0m\n\u001b[0;32m    140\u001b[0m             \u001b[0msample\u001b[0m \u001b[1;33m=\u001b[0m \u001b[0mself\u001b[0m\u001b[1;33m.\u001b[0m\u001b[0mtransform\u001b[0m\u001b[1;33m(\u001b[0m\u001b[0msample\u001b[0m\u001b[1;33m)\u001b[0m\u001b[1;33m\u001b[0m\u001b[1;33m\u001b[0m\u001b[0m\n",
      "\u001b[1;32mD:\\Anaconda3\\lib\\site-packages\\torchvision\\datasets\\folder.py\u001b[0m in \u001b[0;36mdefault_loader\u001b[1;34m(path)\u001b[0m\n\u001b[0;32m    172\u001b[0m         \u001b[1;32mreturn\u001b[0m \u001b[0maccimage_loader\u001b[0m\u001b[1;33m(\u001b[0m\u001b[0mpath\u001b[0m\u001b[1;33m)\u001b[0m\u001b[1;33m\u001b[0m\u001b[1;33m\u001b[0m\u001b[0m\n\u001b[0;32m    173\u001b[0m     \u001b[1;32melse\u001b[0m\u001b[1;33m:\u001b[0m\u001b[1;33m\u001b[0m\u001b[1;33m\u001b[0m\u001b[0m\n\u001b[1;32m--> 174\u001b[1;33m         \u001b[1;32mreturn\u001b[0m \u001b[0mpil_loader\u001b[0m\u001b[1;33m(\u001b[0m\u001b[0mpath\u001b[0m\u001b[1;33m)\u001b[0m\u001b[1;33m\u001b[0m\u001b[1;33m\u001b[0m\u001b[0m\n\u001b[0m\u001b[0;32m    175\u001b[0m \u001b[1;33m\u001b[0m\u001b[0m\n\u001b[0;32m    176\u001b[0m \u001b[1;33m\u001b[0m\u001b[0m\n",
      "\u001b[1;32mD:\\Anaconda3\\lib\\site-packages\\torchvision\\datasets\\folder.py\u001b[0m in \u001b[0;36mpil_loader\u001b[1;34m(path)\u001b[0m\n\u001b[0;32m    155\u001b[0m     \u001b[1;32mwith\u001b[0m \u001b[0mopen\u001b[0m\u001b[1;33m(\u001b[0m\u001b[0mpath\u001b[0m\u001b[1;33m,\u001b[0m \u001b[1;34m'rb'\u001b[0m\u001b[1;33m)\u001b[0m \u001b[1;32mas\u001b[0m \u001b[0mf\u001b[0m\u001b[1;33m:\u001b[0m\u001b[1;33m\u001b[0m\u001b[1;33m\u001b[0m\u001b[0m\n\u001b[0;32m    156\u001b[0m         \u001b[0mimg\u001b[0m \u001b[1;33m=\u001b[0m \u001b[0mImage\u001b[0m\u001b[1;33m.\u001b[0m\u001b[0mopen\u001b[0m\u001b[1;33m(\u001b[0m\u001b[0mf\u001b[0m\u001b[1;33m)\u001b[0m\u001b[1;33m\u001b[0m\u001b[1;33m\u001b[0m\u001b[0m\n\u001b[1;32m--> 157\u001b[1;33m         \u001b[1;32mreturn\u001b[0m \u001b[0mimg\u001b[0m\u001b[1;33m.\u001b[0m\u001b[0mconvert\u001b[0m\u001b[1;33m(\u001b[0m\u001b[1;34m'RGB'\u001b[0m\u001b[1;33m)\u001b[0m\u001b[1;33m\u001b[0m\u001b[1;33m\u001b[0m\u001b[0m\n\u001b[0m\u001b[0;32m    158\u001b[0m \u001b[1;33m\u001b[0m\u001b[0m\n\u001b[0;32m    159\u001b[0m \u001b[1;33m\u001b[0m\u001b[0m\n",
      "\u001b[1;32mD:\\Anaconda3\\lib\\site-packages\\PIL\\Image.py\u001b[0m in \u001b[0;36mconvert\u001b[1;34m(self, mode, matrix, dither, palette, colors)\u001b[0m\n\u001b[0;32m    932\u001b[0m         \"\"\"\n\u001b[0;32m    933\u001b[0m \u001b[1;33m\u001b[0m\u001b[0m\n\u001b[1;32m--> 934\u001b[1;33m         \u001b[0mself\u001b[0m\u001b[1;33m.\u001b[0m\u001b[0mload\u001b[0m\u001b[1;33m(\u001b[0m\u001b[1;33m)\u001b[0m\u001b[1;33m\u001b[0m\u001b[1;33m\u001b[0m\u001b[0m\n\u001b[0m\u001b[0;32m    935\u001b[0m \u001b[1;33m\u001b[0m\u001b[0m\n\u001b[0;32m    936\u001b[0m         \u001b[1;32mif\u001b[0m \u001b[1;32mnot\u001b[0m \u001b[0mmode\u001b[0m \u001b[1;32mand\u001b[0m \u001b[0mself\u001b[0m\u001b[1;33m.\u001b[0m\u001b[0mmode\u001b[0m \u001b[1;33m==\u001b[0m \u001b[1;34m\"P\"\u001b[0m\u001b[1;33m:\u001b[0m\u001b[1;33m\u001b[0m\u001b[1;33m\u001b[0m\u001b[0m\n",
      "\u001b[1;32mD:\\Anaconda3\\lib\\site-packages\\PIL\\TiffImagePlugin.py\u001b[0m in \u001b[0;36mload\u001b[1;34m(self)\u001b[0m\n\u001b[0;32m   1098\u001b[0m         \u001b[1;32mif\u001b[0m \u001b[0mself\u001b[0m\u001b[1;33m.\u001b[0m\u001b[0muse_load_libtiff\u001b[0m\u001b[1;33m:\u001b[0m\u001b[1;33m\u001b[0m\u001b[1;33m\u001b[0m\u001b[0m\n\u001b[0;32m   1099\u001b[0m             \u001b[1;32mreturn\u001b[0m \u001b[0mself\u001b[0m\u001b[1;33m.\u001b[0m\u001b[0m_load_libtiff\u001b[0m\u001b[1;33m(\u001b[0m\u001b[1;33m)\u001b[0m\u001b[1;33m\u001b[0m\u001b[1;33m\u001b[0m\u001b[0m\n\u001b[1;32m-> 1100\u001b[1;33m         \u001b[1;32mreturn\u001b[0m \u001b[0msuper\u001b[0m\u001b[1;33m(\u001b[0m\u001b[0mTiffImageFile\u001b[0m\u001b[1;33m,\u001b[0m \u001b[0mself\u001b[0m\u001b[1;33m)\u001b[0m\u001b[1;33m.\u001b[0m\u001b[0mload\u001b[0m\u001b[1;33m(\u001b[0m\u001b[1;33m)\u001b[0m\u001b[1;33m\u001b[0m\u001b[1;33m\u001b[0m\u001b[0m\n\u001b[0m\u001b[0;32m   1101\u001b[0m \u001b[1;33m\u001b[0m\u001b[0m\n\u001b[0;32m   1102\u001b[0m     \u001b[1;32mdef\u001b[0m \u001b[0mload_end\u001b[0m\u001b[1;33m(\u001b[0m\u001b[0mself\u001b[0m\u001b[1;33m)\u001b[0m\u001b[1;33m:\u001b[0m\u001b[1;33m\u001b[0m\u001b[1;33m\u001b[0m\u001b[0m\n",
      "\u001b[1;32mD:\\Anaconda3\\lib\\site-packages\\PIL\\ImageFile.py\u001b[0m in \u001b[0;36mload\u001b[1;34m(self)\u001b[0m\n\u001b[0;32m    232\u001b[0m                         \u001b[1;32mwhile\u001b[0m \u001b[1;32mTrue\u001b[0m\u001b[1;33m:\u001b[0m\u001b[1;33m\u001b[0m\u001b[1;33m\u001b[0m\u001b[0m\n\u001b[0;32m    233\u001b[0m                             \u001b[1;32mtry\u001b[0m\u001b[1;33m:\u001b[0m\u001b[1;33m\u001b[0m\u001b[1;33m\u001b[0m\u001b[0m\n\u001b[1;32m--> 234\u001b[1;33m                                 \u001b[0ms\u001b[0m \u001b[1;33m=\u001b[0m \u001b[0mread\u001b[0m\u001b[1;33m(\u001b[0m\u001b[0mself\u001b[0m\u001b[1;33m.\u001b[0m\u001b[0mdecodermaxblock\u001b[0m\u001b[1;33m)\u001b[0m\u001b[1;33m\u001b[0m\u001b[1;33m\u001b[0m\u001b[0m\n\u001b[0m\u001b[0;32m    235\u001b[0m                             \u001b[1;32mexcept\u001b[0m \u001b[1;33m(\u001b[0m\u001b[0mIndexError\u001b[0m\u001b[1;33m,\u001b[0m \u001b[0mstruct\u001b[0m\u001b[1;33m.\u001b[0m\u001b[0merror\u001b[0m\u001b[1;33m)\u001b[0m\u001b[1;33m:\u001b[0m\u001b[1;33m\u001b[0m\u001b[1;33m\u001b[0m\u001b[0m\n\u001b[0;32m    236\u001b[0m                                 \u001b[1;31m# truncated png/gif\u001b[0m\u001b[1;33m\u001b[0m\u001b[1;33m\u001b[0m\u001b[1;33m\u001b[0m\u001b[0m\n",
      "\u001b[1;31mKeyboardInterrupt\u001b[0m: "
     ]
    }
   ],
   "source": [
    "optimizer = optim.Adam(model.parameters(), lr=1e-4)\n",
    "train_trace = {\n",
    "    'loss': [],\n",
    "    'mse': [],\n",
    "    'kld': []\n",
    "}\n",
    "\n",
    "val_trace = {\n",
    "    'loss': [],\n",
    "    'mse': [],\n",
    "    'kld': []\n",
    "}\n",
    "epochs = 60\n",
    "for epoch in range(1, epochs + 1):\n",
    "        loss, mse, kld = train(epoch, train_data)\n",
    "        train_trace['loss'].append(loss)\n",
    "        train_trace['mse'].append(mse)\n",
    "        train_trace['kld'].append(kld)\n",
    "\n",
    "        loss, mse, kld = test(epoch, val_data)\n",
    "        val_trace['loss'].append(loss)\n",
    "        val_trace['mse'].append(mse)\n",
    "        val_trace['kld'].append(kld)\n",
    "\n",
    "        with torch.no_grad():\n",
    "            sample = torch.randn(4, 256).to(device)\n",
    "            sample = model.decode(sample).cpu()\n",
    "            sample = torchvision.utils.make_grid(sample)\n",
    "            imshow(sample)\n",
    "            plt.savefig(results_dir + 'sample_' + str(epoch) + '.png')\n",
    "            plt.close()\n",
    "            #save_image(sample, results_dir + 'sample_' + str(epoch) + '.tif')"
   ]
  },
  {
   "cell_type": "code",
   "execution_count": 12,
   "metadata": {},
   "outputs": [
    {
     "data": {
      "image/png": "[encoded data removed]",
      "text/plain": [
       "<Figure size 720x720 with 1 Axes>"
      ]
     },
     "metadata": {
      "needs_background": "light"
     },
     "output_type": "display_data"
    }
   ],
   "source": [
    "plt.figure(figsize=(10,10))\n",
    "plt.plot(train_trace['loss'])\n",
    "plt.plot(val_trace['loss'])\n",
    "#plt.xticks(np.arange(0, epochs+1, 5))\n",
    "plt.yticks(np.arange(4000, 16001, 1000))\n",
    "plt.ylabel('Loss')\n",
    "plt.xlabel('Epoch number')\n",
    "plt.title('Avg loss per epoch')\n",
    "plt.grid()\n",
    "plt.show()"
   ]
  },
  {
   "cell_type": "code",
   "execution_count": 13,
   "metadata": {},
   "outputs": [
    {
     "data": {
      "image/png": "[encoded data removed]",
      "text/plain": [
       "<Figure size 720x720 with 1 Axes>"
      ]
     },
     "metadata": {
      "needs_background": "light"
     },
     "output_type": "display_data"
    }
   ],
   "source": [
    "plt.figure(figsize=(10,10))\n",
    "plt.plot(train_trace['mse'])\n",
    "plt.plot(val_trace['mse'])\n",
    "plt.xticks(np.arange(0, epochs+1, 5))\n",
    "plt.yticks(np.arange(4000, 14001, 800))\n",
    "#plt.yticks(np.arange(0, 1.1, 0.1))\n",
    "plt.ylabel('MSE')\n",
    "plt.xlabel('Epoch number')\n",
    "plt.title('MSE per epoch')\n",
    "plt.grid()\n",
    "plt.show()"
   ]
  },
  {
   "cell_type": "code",
   "execution_count": 14,
   "metadata": {},
   "outputs": [
    {
     "data": {
      "image/png": "[encoded data removed]",
      "text/plain": [
       "<Figure size 720x720 with 1 Axes>"
      ]
     },
     "metadata": {
      "needs_background": "light"
     },
     "output_type": "display_data"
    }
   ],
   "source": [
    "plt.figure(figsize=(10,10))\n",
    "plt.plot(train_trace['kld'])\n",
    "plt.plot(val_trace['kld'])\n",
    "#plt.xticks(np.arange(0, epochs+1, 5))\n",
    "plt.yticks(np.arange(0, 2500, 200))\n",
    "plt.ylabel('KLD')\n",
    "plt.xlabel('Epoch number')\n",
    "plt.title('KLD with B=20')\n",
    "plt.grid()\n",
    "plt.show()"
   ]
  },
  {
   "cell_type": "markdown",
   "metadata": {},
   "source": [
    "### Experimental Cells\n",
    "Please ignore"
   ]
  },
  {
   "cell_type": "code",
   "execution_count": 22,
   "metadata": {},
   "outputs": [
    {
     "name": "stdout",
     "output_type": "stream",
     "text": [
      "torch.Size([128, 3, 96, 96])\n",
      "tensor(9.9212)\n",
      "tensor(5.8420)\n",
      "tensor(2.8252)\n",
      "tensor(9.9212)\n"
     ]
    }
   ],
   "source": [
    "img, _ = next(iter(val_data))\n",
    "print(img.shape)\n",
    "print(torch.max(img[0]))\n",
    "print(torch.max(img[0][0]))\n",
    "print(torch.max(img[0][1]))\n",
    "print(torch.max(img[0][2]))"
   ]
  },
  {
   "cell_type": "code",
   "execution_count": 23,
   "metadata": {},
   "outputs": [],
   "source": [
    "x = img[0:100].to(device)\n",
    "recon, mu, logvar = model.forward(x)"
   ]
  },
  {
   "cell_type": "code",
   "execution_count": 24,
   "metadata": {},
   "outputs": [
    {
     "data": {
      "text/plain": [
       "tensor(0.4896, device='cuda:0', grad_fn=<MeanBackward0>)"
      ]
     },
     "execution_count": 24,
     "metadata": {},
     "output_type": "execute_result"
    }
   ],
   "source": [
    "loss, mse, kld = loss_function(recon, x, mu, logvar)\n",
    "kld"
   ]
  },
  {
   "cell_type": "code",
   "execution_count": 25,
   "metadata": {},
   "outputs": [
    {
     "data": {
      "text/plain": [
       "tensor(0.4896, device='cuda:0', grad_fn=<MeanBackward0>)"
      ]
     },
     "execution_count": 25,
     "metadata": {},
     "output_type": "execute_result"
    }
   ],
   "source": [
    "torch.mean((-0.5 * torch.sum(1 + logvar - mu.pow(2) - logvar.exp(), dim=1)))"
   ]
  },
  {
   "cell_type": "code",
   "execution_count": 32,
   "metadata": {},
   "outputs": [
    {
     "data": {
      "text/plain": [
       "tensor(48.9608, device='cuda:0', grad_fn=<SumBackward0>)"
      ]
     },
     "execution_count": 32,
     "metadata": {},
     "output_type": "execute_result"
    }
   ],
   "source": [
    "torch.sum(-0.5 * torch.sum(1 + logvar - mu.pow(2) - logvar.exp(), dim=1))"
   ]
  },
  {
   "cell_type": "code",
   "execution_count": 27,
   "metadata": {},
   "outputs": [
    {
     "data": {
      "text/plain": [
       "tensor(48.9608, device='cuda:0', grad_fn=<MulBackward0>)"
      ]
     },
     "execution_count": 27,
     "metadata": {},
     "output_type": "execute_result"
    }
   ],
   "source": [
    "-0.5 * torch.sum(1 + logvar - mu.pow(2) - logvar.exp())"
   ]
  },
  {
   "cell_type": "code",
   "execution_count": 28,
   "metadata": {},
   "outputs": [
    {
     "data": {
      "text/plain": [
       "tensor(1.1142, device='cuda:0', grad_fn=<MseLossBackward>)"
      ]
     },
     "execution_count": 28,
     "metadata": {},
     "output_type": "execute_result"
    }
   ],
   "source": [
    "mse"
   ]
  },
  {
   "cell_type": "code",
   "execution_count": 29,
   "metadata": {},
   "outputs": [
    {
     "data": {
      "text/plain": [
       "tensor(1.1142, device='cuda:0', grad_fn=<MeanBackward0>)"
      ]
     },
     "execution_count": 29,
     "metadata": {},
     "output_type": "execute_result"
    }
   ],
   "source": [
    "# MSE\n",
    "torch.mean(torch.mean((x - recon).pow(2), dim=(1,2,3)))"
   ]
  },
  {
   "cell_type": "code",
   "execution_count": 30,
   "metadata": {},
   "outputs": [
    {
     "data": {
      "text/plain": [
       "tensor(30805.0391, device='cuda:0', grad_fn=<MeanBackward0>)"
      ]
     },
     "execution_count": 30,
     "metadata": {},
     "output_type": "execute_result"
    }
   ],
   "source": [
    "# Mean of sum of squared errors\n",
    "torch.mean(torch.sum((x - recon).pow(2), dim=(1,2,3)))"
   ]
  },
  {
   "cell_type": "code",
   "execution_count": 31,
   "metadata": {},
   "outputs": [
    {
     "data": {
      "text/plain": [
       "tensor([ 49032.4453,  40966.7852,  50848.2383,  17515.3359,  48760.9531,\n",
       "         26617.5117,  18907.8516,  22738.2969,  22933.0508,  16329.3057,\n",
       "         22105.6680,  15110.5820,  25839.3047,  49059.6797,  13073.6914,\n",
       "         18902.3281,  37263.1523,  25110.9219,  38171.3477,  18795.6250,\n",
       "         18833.7812,  16633.6133,  36964.3359,  24071.2500,  30258.8145,\n",
       "         24461.3672, 152811.6406,  25291.6680,  21647.6875,  30000.3184,\n",
       "         22559.1758,  25224.2891,  25710.5508,  42156.2969,  37223.4180,\n",
       "         20163.1211,  20741.8828,  26796.1055,  37585.2578,  49015.0781,\n",
       "         21612.6055,  35166.5898,  28960.0391,  21049.4688,  28707.4824,\n",
       "         40075.3398,  34210.8906,  25009.6895,  78737.9062,  19067.6641,\n",
       "         22330.2402,  34837.9492,  30266.6719,  91088.0234,  31426.5312,\n",
       "         25010.1914,  35624.6719,  25312.0488,  28138.0391,  21191.1719,\n",
       "         39592.9453,  27596.0156,  45610.1250,  16962.1621,  32445.0352,\n",
       "         14887.0918,  15517.2236,  20838.2363,  26822.0293,  26051.9922,\n",
       "         50641.7695,  74589.1719,  25032.2324,  21777.7031,  28867.7031,\n",
       "         26005.9961,  50666.0156,  26598.7422,  31760.8750,  22493.5469,\n",
       "         12660.3457,  24197.8262,  21248.8652,  11198.7910,  19655.0410,\n",
       "         26432.6641,  18898.3535,  18832.5039,  41197.5938,  18521.3008,\n",
       "         27025.2383,  15153.3926,  27688.2383,  68276.6797,  18849.3164,\n",
       "         22455.3594,  15666.2559,  24467.5527,  47212.2969,  32055.0527],\n",
       "       device='cuda:0', grad_fn=<SumBackward1>)"
      ]
     },
     "execution_count": 31,
     "metadata": {},
     "output_type": "execute_result"
    }
   ],
   "source": [
    "torch.sum((x - recon).pow(2), dim=(1,2,3))"
   ]
  },
  {
   "cell_type": "code",
   "execution_count": 46,
   "metadata": {},
   "outputs": [
    {
     "data": {
      "text/plain": [
       "tensor(366448.0625, device='cuda:0', grad_fn=<MseLossBackward>)"
      ]
     },
     "execution_count": 46,
     "metadata": {},
     "output_type": "execute_result"
    }
   ],
   "source": [
    "F.mse_loss(recon, x, reduction='sum')"
   ]
  },
  {
   "cell_type": "markdown",
   "metadata": {},
   "source": [
    "# Extra\n",
    "\n",
    "The cell below calculates the MEAN and STD of the data set so it can be normalized properly"
   ]
  },
  {
   "cell_type": "code",
   "execution_count": null,
   "metadata": {},
   "outputs": [],
   "source": [
    "image_dataset = datasets.ImageFolder(data_dir, transform=transforms.Compose([\n",
    "        transforms.ToTensor(),\n",
    "        #transforms.Normalize((0.5, 0.5, 0.5), (0.5, 0.5, 0.5))\n",
    "    ]))\n",
    "\n",
    "loader = data.DataLoader(\n",
    "    image_dataset,\n",
    "    batch_size=128,\n",
    "    num_workers=0,\n",
    "    pin_memory=True,\n",
    "    shuffle=False\n",
    ")\n",
    "\n",
    "\n",
    "mean = 0.\n",
    "std = 0.\n",
    "nb_samples = 0.\n",
    "for dat, _ in loader:\n",
    "    batch_samples = dat.size(0)\n",
    "    dat = dat.view(batch_samples, dat.size(1), -1)\n",
    "    mean += dat.mean(2).sum(0)\n",
    "    std += dat.std(2).sum(0)\n",
    "    nb_samples += batch_samples\n",
    "\n",
    "mean /= nb_samples\n",
    "std /= nb_samples\n",
    "print(\"mean: \", mean)\n",
    "print(\"std: \", std)"
   ]
  },
  {
   "cell_type": "code",
   "execution_count": null,
   "metadata": {},
   "outputs": [],
   "source": []
  }
 ],
 "metadata": {
  "kernelspec": {
   "display_name": "Python 3",
   "language": "python",
   "name": "python3"
  },
  "language_info": {
   "codemirror_mode": {
    "name": "ipython",
    "version": 3
   },
   "file_extension": ".py",
   "mimetype": "text/x-python",
   "name": "python",
   "nbconvert_exporter": "python",
   "pygments_lexer": "ipython3",
   "version": "3.7.3"
  }
 },
 "nbformat": 4,
 "nbformat_minor": 2
}
