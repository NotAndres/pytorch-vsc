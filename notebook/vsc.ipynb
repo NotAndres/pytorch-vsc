{
 "cells": [
  {
   "cell_type": "markdown",
   "metadata": {},
   "source": [
    "# VAE and VSC for Cell Images"
   ]
  },
  {
   "cell_type": "code",
   "execution_count": 1,
   "metadata": {},
   "outputs": [],
   "source": [
    "import torch\n",
    "from torch import cuda\n",
    "from torch import nn, optim\n",
    "import torch.nn.functional as F\n",
    "from torchvision import datasets, transforms\n",
    "from torch.utils import data\n",
    "from torchvision.utils import save_image\n",
    "import torchvision\n",
    "import matplotlib.pyplot as plt\n",
    "import numpy as np\n",
    "from PIL import Image"
   ]
  },
  {
   "cell_type": "code",
   "execution_count": 2,
   "metadata": {
    "pycharm": {
     "name": "#%%\n"
    }
   },
   "outputs": [
    {
     "name": "stdout",
     "output_type": "stream",
     "text": [
      "cuda\n"
     ]
    }
   ],
   "source": [
    "data_dir = '../../../Data/'\n",
    "results_dir = '../../../results/'\n",
    "batch_size = 128\n",
    "\n",
    "torch.manual_seed(22)\n",
    "device = torch.device(\"cuda\" if cuda.is_available() else \"cpu\")\n",
    "print(device)"
   ]
  },
  {
   "cell_type": "code",
   "execution_count": 3,
   "metadata": {},
   "outputs": [],
   "source": [
    "def imshow(inp, title=None):\n",
    "    \"\"\"Imshow for Tensor.\"\"\"\n",
    "    inp = inp.numpy().transpose((1, 2, 0))\n",
    "    mean = np.array([0.0302, 0.0660, 0.0518])\n",
    "    std = np.array([0.0633, 0.0974, 0.0766])\n",
    "    inp = std * inp + mean\n",
    "    inp = np.clip(inp, 0, 1)\n",
    "    plt.figure(figsize=(15,15))\n",
    "    plt.imshow(inp)\n",
    "    if title is not None:\n",
    "        plt.title(title)"
   ]
  },
  {
   "cell_type": "markdown",
   "metadata": {
    "pycharm": {
     "name": "#%% md\n"
    }
   },
   "source": [
    "## VAE - Existing Work\n",
    "First the VAE that was already developed was migrated from Tensorflow to Pytorch\n",
    "before starting to work on the VSC"
   ]
  },
  {
   "cell_type": "code",
   "execution_count": 4,
   "metadata": {
    "pycharm": {
     "name": "#%%\n"
    }
   },
   "outputs": [],
   "source": [
    "class VAE(nn.Module):\n",
    "    def __init__(self, latent_dim):\n",
    "        super(VAE, self).__init__()\n",
    "        self.latent_dim = latent_dim\n",
    "\n",
    "        channels = 'placeholder'\n",
    "        # Encoder\n",
    "        self.encoder_conv1 = self.getConvolutionLayer(3, 128)\n",
    "        self.encoder_conv2 = self.getConvolutionLayer(128, 64)\n",
    "        self.encoder_conv3 = self.getConvolutionLayer(64, 32)\n",
    "        \n",
    "        self.flatten = nn.Flatten()\n",
    "\n",
    "        self.encoder_fc1 = nn.Linear(4608, self.latent_dim)\n",
    "        self.encoder_fc2 = nn.Linear(4608, self.latent_dim)\n",
    "        \n",
    "        # Decoder\n",
    "        self.decoder_fc1 = nn.Sequential(\n",
    "            nn.Linear(self.latent_dim, 4608),\n",
    "            nn.ReLU()\n",
    "        )\n",
    "        # Reshape to 32x12x12\n",
    "        self.decoder_upsampler1 = nn.Upsample(scale_factor=(2,2) ,mode='nearest')\n",
    "        \n",
    "        self.decoder_deconv1 = nn.Sequential(\n",
    "            nn.Conv2d(in_channels=32, out_channels=64, kernel_size=3, stride=1, padding=1),\n",
    "            nn.Upsample(scale_factor=(2,2) ,mode='nearest')\n",
    "        )\n",
    "        # 48x48x64\n",
    "        self.decoder_deconv2 = nn.Sequential(\n",
    "            nn.Conv2d(in_channels=64, out_channels=128, kernel_size=3, stride=1, padding=1),\n",
    "            nn.Upsample(scale_factor=(2,2) ,mode='nearest')\n",
    "        )\n",
    "\n",
    "        self.decoder_conv1 = nn.Conv2d(in_channels=128, out_channels=3, kernel_size=3, stride=1, padding=1)\n",
    "        # 96x96x128\n",
    "        \n",
    "\n",
    "    def getConvolutionLayer(self, in_channels, out_channels):\n",
    "        return nn.Sequential(\n",
    "            nn.Conv2d(in_channels=in_channels, out_channels=out_channels, kernel_size=3, stride=1, padding=1),\n",
    "            nn.ReLU(),\n",
    "            nn.MaxPool2d(kernel_size=2)\n",
    "        )\n",
    "\n",
    "\n",
    "    def encode(self, x):\n",
    "        x = self.encoder_conv1(x)\n",
    "        x = self.encoder_conv2(x)\n",
    "        x = self.encoder_conv3(x)\n",
    "        \n",
    "        x = self.flatten(x)\n",
    "        mu = self.encoder_fc1(x)\n",
    "        sigma = self.encoder_fc2(x)\n",
    "\n",
    "        return mu, sigma\n",
    "\n",
    "    def reparameterize(self, mu, logvar):\n",
    "        std = torch.exp(0.5*logvar)\n",
    "        # Keeps shape, samples from normal dist with mean 0 and variance 1\n",
    "        eps = torch.randn_like(std)\n",
    "        return mu + eps*std\n",
    "\n",
    "    def decode(self, z):\n",
    "        z = self.decoder_fc1(z)\n",
    "        z = self.decoder_upsampler1(z.view(-1, 32, 12, 12))\n",
    "        z = self.decoder_deconv1(z)\n",
    "        z = self.decoder_deconv2(z)\n",
    "        recon = self.decoder_conv1(z)        \n",
    "        return recon\n",
    "\n",
    "    def forward(self, x):\n",
    "        mu, logvar = self.encode(x)\n",
    "        z = self.reparameterize(mu, logvar)\n",
    "        return self.decode(z), mu, logvar"
   ]
  },
  {
   "cell_type": "code",
   "execution_count": 5,
   "metadata": {
    "pycharm": {
     "name": "#%%\n"
    }
   },
   "outputs": [],
   "source": [
    "# Reconstruction + KL divergence losses summed over all elements and batch\n",
    "def loss_function(recon_x, x, mu, logvar, epoch_n=False):\n",
    "    # BCE = F.binary_cross_entropy(recon_x, x.view(-1, 784), reduction='sum')\n",
    "    mse = F.mse_loss(recon_x, x, reduction='sum')\n",
    "\n",
    "    # see Appendix B from VAE paper:\n",
    "    # Kingma and Welling. Auto-Encoding Variational Bayes. ICLR, 2014\n",
    "    # https://arxiv.org/abs/1312.6114\n",
    "    sigma = logvar.exp()\n",
    "    #kld = torch.mean(-0.5 * torch.sum(1 + torch.log(1e-10 + sigma.pow(2)) - mu.pow(2) - sigma.pow(2)))\n",
    "    #kld = torch.sum(-0.5 * torch.sum(1 + logvar - mu.pow(2) - logvar.exp(), axis=1))\n",
    "    kld = -0.5 * torch.sum(1 + logvar - mu.pow(2) - logvar.exp()) * 20\n",
    "    loss = mse + kld\n",
    "    return loss, mse, kld"
   ]
  },
  {
   "cell_type": "code",
   "execution_count": 6,
   "metadata": {},
   "outputs": [],
   "source": [
    "def split_data(data_dir, n_split=0.2, batch_size=256):\n",
    "    \n",
    "    pin_memory = cuda.is_available()\n",
    "    workers = 0 if cuda.is_available() else 4\n",
    "    \n",
    "    # Create training and validation datasets\n",
    "    image_dataset = datasets.ImageFolder(data_dir, transform=transforms.Compose([\n",
    "        transforms.ToTensor(),\n",
    "        #transforms.Normalize((0.5, 0.5, 0.5), (0.5, 0.5, 0.5))\n",
    "        transforms.Normalize((0.0302, 0.0660, 0.0518), (0.0633, 0.0974, 0.0766))\n",
    "    ]))\n",
    "    # Create training and validation dataloaders\n",
    "    total = len(image_dataset)\n",
    "    n_test = int(total * n_split)\n",
    "    n_train = total - n_test \n",
    "    train_set, test_set = data.random_split(image_dataset, (n_train, n_test))\n",
    "\n",
    "    n_val = int(len(train_set) * n_split)\n",
    "    n_train = len(train_set) - n_val\n",
    "    train_set, val_set = data.random_split(train_set, (n_train, n_val))  \n",
    "    \n",
    "    print('Train split: ', len(train_set))\n",
    "    print('Val split: ', len(val_set))\n",
    "    print('Test split: ', len(test_set))\n",
    "    \n",
    "    train_loader = data.DataLoader(\n",
    "      train_set,\n",
    "      batch_size=batch_size,\n",
    "      num_workers = workers,\n",
    "      shuffle=True,\n",
    "      pin_memory=pin_memory\n",
    "    )\n",
    "    val_loader = data.DataLoader(\n",
    "      val_set,\n",
    "      batch_size=batch_size,\n",
    "      num_workers = workers,\n",
    "      shuffle=True,\n",
    "      pin_memory=pin_memory\n",
    "    )\n",
    "    test_loader = data.DataLoader(\n",
    "      test_set,\n",
    "      batch_size=batch_size,\n",
    "      num_workers = workers,\n",
    "      shuffle=True,\n",
    "      pin_memory=pin_memory\n",
    "    )\n",
    "    return train_loader, val_loader, test_loader"
   ]
  },
  {
   "cell_type": "code",
   "execution_count": 7,
   "metadata": {},
   "outputs": [],
   "source": [
    "def train(epoch, train_loader):\n",
    "    model.train()\n",
    "    train_loss = 0\n",
    "    train_mse = 0\n",
    "    train_kld = 0\n",
    "    for batch_idx, (data, _) in enumerate(train_loader):\n",
    "        data = data.to(device)\n",
    "        optimizer.zero_grad()\n",
    "        recon_batch, mu, logvar = model(data)\n",
    "        loss, mse, kld = loss_function(recon_batch, data, mu, logvar, epoch)\n",
    "        \n",
    "        loss.backward()\n",
    "        optimizer.step()\n",
    "        \n",
    "        current_batch_size = len(data)\n",
    "        train_loss += loss.item() \n",
    "        train_mse += mse.item() \n",
    "        train_kld += kld.item()\n",
    "\n",
    "  \n",
    "        if batch_idx % 50 == 0:\n",
    "            print('Train Epoch: {} [{}/{} ({:.0f}%)]\\tLoss: {:.6f}'.format(\n",
    "                epoch, batch_idx * len(data), len(train_loader.dataset),\n",
    "                100. * batch_idx / len(train_loader),\n",
    "                loss.item() / len(data)))\n",
    "\n",
    "    datapoints = len(train_loader.dataset)\n",
    "    avg_loss = train_loss/datapoints\n",
    "    avg_mse = train_mse/datapoints\n",
    "    avg_kld = train_kld/datapoints\n",
    "\n",
    "    print('====> Epoch: {} Average loss: {:.4f}'.format(\n",
    "          epoch, avg_loss))\n",
    "    print('*** Avg MSE: {:.4f}'.format(avg_mse))\n",
    "    print('*** Avg KLD: {:.4f}'.format(avg_kld))\n",
    "    return avg_loss, avg_mse, avg_kld"
   ]
  },
  {
   "cell_type": "code",
   "execution_count": 8,
   "metadata": {},
   "outputs": [],
   "source": [
    "def test(epoch, test_loader):\n",
    "    model.eval()\n",
    "    test_loss = 0\n",
    "    test_mse = 0\n",
    "    test_kld = 0\n",
    "    with torch.no_grad():\n",
    "        for i, (data, _) in enumerate(test_loader):\n",
    "            data = data.to(device)\n",
    "            recon_batch, mu, logvar = model(data)\n",
    "            loss, mse, kld = loss_function(recon_batch, data, mu, logvar, epoch)\n",
    "\n",
    "            current_batch_size = data.size(0)\n",
    "            test_loss += loss.item()\n",
    "            test_mse += mse.item()\n",
    "            test_kld += kld.item()\n",
    "\n",
    "            if i == 0:\n",
    "                n = min(data.size(0), 8)\n",
    "                comparison = torch.cat([data[:n], recon_batch[:n]]).cpu()\n",
    "                comparison = torchvision.utils.make_grid(comparison)\n",
    "                imshow(comparison)\n",
    "                plt.savefig(results_dir + 'reconstruction_' + str(epoch) + '.png')\n",
    "                plt.close()\n",
    "                #save_image(comparison, results_dir + 'reconstruction_' + str(epoch) + '.tif')\n",
    "\n",
    "    datapoints = len(test_loader.dataset)\n",
    "    test_loss /= datapoints\n",
    "    test_mse /= datapoints\n",
    "    test_kld /= datapoints\n",
    "    print('====> Test set loss: {:.4f}'.format(test_loss))\n",
    "    print('*** Avg MSE: {:.4f}'.format(test_mse))\n",
    "    print('*** Avg KLD: {:.4f}'.format(test_kld))\n",
    "    return test_loss, test_mse, test_kld"
   ]
  },
  {
   "cell_type": "code",
   "execution_count": 9,
   "metadata": {
    "pycharm": {
     "name": "#%%\n"
    }
   },
   "outputs": [
    {
     "name": "stdout",
     "output_type": "stream",
     "text": [
      "Train split:  26634\n",
      "Val split:  6658\n",
      "Test split:  8322\n"
     ]
    }
   ],
   "source": [
    "train_data, val_data, test_data = split_data(data_dir=data_dir, batch_size=batch_size)"
   ]
  },
  {
   "cell_type": "code",
   "execution_count": 10,
   "metadata": {
    "pycharm": {
     "name": "#%%\n"
    }
   },
   "outputs": [
    {
     "data": {
      "text/plain": [
       "VAE(\n",
       "  (encoder_conv1): Sequential(\n",
       "    (0): Conv2d(3, 128, kernel_size=(3, 3), stride=(1, 1), padding=(1, 1))\n",
       "    (1): ReLU()\n",
       "    (2): MaxPool2d(kernel_size=2, stride=2, padding=0, dilation=1, ceil_mode=False)\n",
       "  )\n",
       "  (encoder_conv2): Sequential(\n",
       "    (0): Conv2d(128, 64, kernel_size=(3, 3), stride=(1, 1), padding=(1, 1))\n",
       "    (1): ReLU()\n",
       "    (2): MaxPool2d(kernel_size=2, stride=2, padding=0, dilation=1, ceil_mode=False)\n",
       "  )\n",
       "  (encoder_conv3): Sequential(\n",
       "    (0): Conv2d(64, 32, kernel_size=(3, 3), stride=(1, 1), padding=(1, 1))\n",
       "    (1): ReLU()\n",
       "    (2): MaxPool2d(kernel_size=2, stride=2, padding=0, dilation=1, ceil_mode=False)\n",
       "  )\n",
       "  (flatten): Flatten()\n",
       "  (encoder_fc1): Linear(in_features=4608, out_features=256, bias=True)\n",
       "  (encoder_fc2): Linear(in_features=4608, out_features=256, bias=True)\n",
       "  (decoder_fc1): Sequential(\n",
       "    (0): Linear(in_features=256, out_features=4608, bias=True)\n",
       "    (1): ReLU()\n",
       "  )\n",
       "  (decoder_upsampler1): Upsample(scale_factor=(2.0, 2.0), mode=nearest)\n",
       "  (decoder_deconv1): Sequential(\n",
       "    (0): Conv2d(32, 64, kernel_size=(3, 3), stride=(1, 1), padding=(1, 1))\n",
       "    (1): Upsample(scale_factor=(2.0, 2.0), mode=nearest)\n",
       "  )\n",
       "  (decoder_deconv2): Sequential(\n",
       "    (0): Conv2d(64, 128, kernel_size=(3, 3), stride=(1, 1), padding=(1, 1))\n",
       "    (1): Upsample(scale_factor=(2.0, 2.0), mode=nearest)\n",
       "  )\n",
       "  (decoder_conv1): Conv2d(128, 3, kernel_size=(3, 3), stride=(1, 1), padding=(1, 1))\n",
       ")"
      ]
     },
     "execution_count": 10,
     "metadata": {},
     "output_type": "execute_result"
    }
   ],
   "source": [
    "model = VAE(256).to(device)\n",
    "model"
   ]
  },
  {
   "cell_type": "code",
   "execution_count": 11,
   "metadata": {
    "pycharm": {
     "name": "#%%\n"
    }
   },
   "outputs": [
    {
     "name": "stdout",
     "output_type": "stream",
     "text": [
      "Train Epoch: 1 [0/26634 (0%)]\tLoss: 32261.302734\n",
      "Train Epoch: 1 [6400/26634 (24%)]\tLoss: 16151.645508\n",
      "Train Epoch: 1 [12800/26634 (48%)]\tLoss: 12147.044922\n",
      "Train Epoch: 1 [19200/26634 (72%)]\tLoss: 12199.609375\n",
      "Train Epoch: 1 [25600/26634 (96%)]\tLoss: 10954.831055\n",
      "====> Epoch: 1 Average loss: 15054.4068\n",
      "*** Avg MSE: 13417.0866\n",
      "*** Avg KLD: 1637.3201\n",
      "====> Test set loss: 10486.9994\n",
      "*** Avg MSE: 8630.9665\n",
      "*** Avg KLD: 1856.0330\n",
      "Train Epoch: 2 [0/26634 (0%)]\tLoss: 10554.123047\n",
      "Train Epoch: 2 [6400/26634 (24%)]\tLoss: 9648.114258\n",
      "Train Epoch: 2 [12800/26634 (48%)]\tLoss: 9612.240234\n",
      "Train Epoch: 2 [19200/26634 (72%)]\tLoss: 9222.833984\n",
      "Train Epoch: 2 [25600/26634 (96%)]\tLoss: 9559.836914\n",
      "====> Epoch: 2 Average loss: 9771.0992\n",
      "*** Avg MSE: 7872.2897\n",
      "*** Avg KLD: 1898.8096\n",
      "====> Test set loss: 9274.9826\n",
      "*** Avg MSE: 7339.1247\n",
      "*** Avg KLD: 1935.8578\n",
      "Train Epoch: 3 [0/26634 (0%)]\tLoss: 8798.521484\n",
      "Train Epoch: 3 [6400/26634 (24%)]\tLoss: 9446.330078\n",
      "Train Epoch: 3 [12800/26634 (48%)]\tLoss: 7942.722656\n",
      "Train Epoch: 3 [19200/26634 (72%)]\tLoss: 7942.791992\n",
      "Train Epoch: 3 [25600/26634 (96%)]\tLoss: 8191.419922\n",
      "====> Epoch: 3 Average loss: 8604.2290\n",
      "*** Avg MSE: 6604.7894\n",
      "*** Avg KLD: 1999.4396\n",
      "====> Test set loss: 8388.0229\n",
      "*** Avg MSE: 6361.0480\n",
      "*** Avg KLD: 2026.9748\n",
      "Train Epoch: 4 [0/26634 (0%)]\tLoss: 8458.489258\n",
      "Train Epoch: 4 [6400/26634 (24%)]\tLoss: 8672.675781\n",
      "Train Epoch: 4 [12800/26634 (48%)]\tLoss: 7988.955566\n",
      "Train Epoch: 4 [19200/26634 (72%)]\tLoss: 8441.903320\n",
      "Train Epoch: 4 [25600/26634 (96%)]\tLoss: 8307.818359\n",
      "====> Epoch: 4 Average loss: 8148.1152\n",
      "*** Avg MSE: 6139.0213\n",
      "*** Avg KLD: 2009.0939\n",
      "====> Test set loss: 8074.6708\n",
      "*** Avg MSE: 6034.8426\n",
      "*** Avg KLD: 2039.8281\n",
      "Train Epoch: 5 [0/26634 (0%)]\tLoss: 8199.085938\n",
      "Train Epoch: 5 [6400/26634 (24%)]\tLoss: 7603.646484\n",
      "Train Epoch: 5 [12800/26634 (48%)]\tLoss: 8040.562500\n",
      "Train Epoch: 5 [19200/26634 (72%)]\tLoss: 7819.755859\n",
      "Train Epoch: 5 [25600/26634 (96%)]\tLoss: 7919.779297\n",
      "====> Epoch: 5 Average loss: 7887.7831\n",
      "*** Avg MSE: 5859.6718\n",
      "*** Avg KLD: 2028.1113\n",
      "====> Test set loss: 7833.5375\n",
      "*** Avg MSE: 5827.3868\n",
      "*** Avg KLD: 2006.1507\n",
      "Train Epoch: 6 [0/26634 (0%)]\tLoss: 7874.560547\n",
      "Train Epoch: 6 [6400/26634 (24%)]\tLoss: 7875.920898\n",
      "Train Epoch: 6 [12800/26634 (48%)]\tLoss: 7622.356445\n",
      "Train Epoch: 6 [19200/26634 (72%)]\tLoss: 7373.922852\n",
      "Train Epoch: 6 [25600/26634 (96%)]\tLoss: 7615.152344\n",
      "====> Epoch: 6 Average loss: 7683.1118\n",
      "*** Avg MSE: 5651.6536\n",
      "*** Avg KLD: 2031.4582\n",
      "====> Test set loss: 7713.7478\n",
      "*** Avg MSE: 5667.3605\n",
      "*** Avg KLD: 2046.3873\n",
      "Train Epoch: 7 [0/26634 (0%)]\tLoss: 7589.544434\n",
      "Train Epoch: 7 [6400/26634 (24%)]\tLoss: 7349.225586\n",
      "Train Epoch: 7 [12800/26634 (48%)]\tLoss: 7550.571289\n",
      "Train Epoch: 7 [19200/26634 (72%)]\tLoss: 7737.491211\n",
      "Train Epoch: 7 [25600/26634 (96%)]\tLoss: 7334.591797\n",
      "====> Epoch: 7 Average loss: 7549.0525\n",
      "*** Avg MSE: 5509.6606\n",
      "*** Avg KLD: 2039.3919\n",
      "====> Test set loss: 7573.8332\n",
      "*** Avg MSE: 5525.3228\n",
      "*** Avg KLD: 2048.5105\n",
      "Train Epoch: 8 [0/26634 (0%)]\tLoss: 7753.532227\n",
      "Train Epoch: 8 [6400/26634 (24%)]\tLoss: 7548.378906\n",
      "Train Epoch: 8 [12800/26634 (48%)]\tLoss: 7156.211914\n",
      "Train Epoch: 8 [19200/26634 (72%)]\tLoss: 7348.200195\n",
      "Train Epoch: 8 [25600/26634 (96%)]\tLoss: 7962.642578\n",
      "====> Epoch: 8 Average loss: 7428.0602\n",
      "*** Avg MSE: 5387.5341\n",
      "*** Avg KLD: 2040.5261\n",
      "====> Test set loss: 7497.9688\n",
      "*** Avg MSE: 5471.8646\n",
      "*** Avg KLD: 2026.1042\n",
      "Train Epoch: 9 [0/26634 (0%)]\tLoss: 7345.736816\n",
      "Train Epoch: 9 [6400/26634 (24%)]\tLoss: 7487.850586\n",
      "Train Epoch: 9 [12800/26634 (48%)]\tLoss: 7230.814453\n",
      "Train Epoch: 9 [19200/26634 (72%)]\tLoss: 6831.093750\n",
      "Train Epoch: 9 [25600/26634 (96%)]\tLoss: 7198.158691\n",
      "====> Epoch: 9 Average loss: 7314.3897\n",
      "*** Avg MSE: 5282.1911\n",
      "*** Avg KLD: 2032.1987\n",
      "====> Test set loss: 7367.0240\n",
      "*** Avg MSE: 5354.6055\n",
      "*** Avg KLD: 2012.4186\n",
      "Train Epoch: 10 [0/26634 (0%)]\tLoss: 7194.115234\n",
      "Train Epoch: 10 [6400/26634 (24%)]\tLoss: 7192.446777\n",
      "Train Epoch: 10 [12800/26634 (48%)]\tLoss: 7193.956543\n",
      "Train Epoch: 10 [19200/26634 (72%)]\tLoss: 7306.976562\n",
      "Train Epoch: 10 [25600/26634 (96%)]\tLoss: 7004.135254\n",
      "====> Epoch: 10 Average loss: 7219.0921\n",
      "*** Avg MSE: 5192.1161\n",
      "*** Avg KLD: 2026.9760\n",
      "====> Test set loss: 7222.0788\n",
      "*** Avg MSE: 5224.9637\n",
      "*** Avg KLD: 1997.1150\n",
      "Train Epoch: 11 [0/26634 (0%)]\tLoss: 7555.989258\n",
      "Train Epoch: 11 [6400/26634 (24%)]\tLoss: 6918.860352\n",
      "Train Epoch: 11 [12800/26634 (48%)]\tLoss: 7631.173828\n",
      "Train Epoch: 11 [19200/26634 (72%)]\tLoss: 6901.519531\n",
      "Train Epoch: 11 [25600/26634 (96%)]\tLoss: 7610.442383\n",
      "====> Epoch: 11 Average loss: 7117.2901\n",
      "*** Avg MSE: 5098.6109\n",
      "*** Avg KLD: 2018.6792\n",
      "====> Test set loss: 7145.2353\n",
      "*** Avg MSE: 5101.5082\n",
      "*** Avg KLD: 2043.7270\n",
      "Train Epoch: 12 [0/26634 (0%)]\tLoss: 7068.733398\n",
      "Train Epoch: 12 [6400/26634 (24%)]\tLoss: 7145.131836\n",
      "Train Epoch: 12 [12800/26634 (48%)]\tLoss: 6782.595703\n",
      "Train Epoch: 12 [19200/26634 (72%)]\tLoss: 6992.887695\n",
      "Train Epoch: 12 [25600/26634 (96%)]\tLoss: 6642.781250\n",
      "====> Epoch: 12 Average loss: 7016.4935\n",
      "*** Avg MSE: 5010.9217\n",
      "*** Avg KLD: 2005.5718\n",
      "====> Test set loss: 7082.5741\n",
      "*** Avg MSE: 5072.0256\n",
      "*** Avg KLD: 2010.5485\n",
      "Train Epoch: 13 [0/26634 (0%)]\tLoss: 6938.092285\n",
      "Train Epoch: 13 [6400/26634 (24%)]\tLoss: 6645.717773\n",
      "Train Epoch: 13 [12800/26634 (48%)]\tLoss: 7279.950684\n",
      "Train Epoch: 13 [19200/26634 (72%)]\tLoss: 6980.458008\n",
      "Train Epoch: 13 [25600/26634 (96%)]\tLoss: 6639.411133\n",
      "====> Epoch: 13 Average loss: 6938.7518\n",
      "*** Avg MSE: 4949.3093\n",
      "*** Avg KLD: 1989.4426\n",
      "====> Test set loss: 7057.9781\n",
      "*** Avg MSE: 5029.1706\n",
      "*** Avg KLD: 2028.8075\n",
      "Train Epoch: 14 [0/26634 (0%)]\tLoss: 7384.639160\n",
      "Train Epoch: 14 [6400/26634 (24%)]\tLoss: 6845.777344\n",
      "Train Epoch: 14 [12800/26634 (48%)]\tLoss: 6846.445312\n",
      "Train Epoch: 14 [19200/26634 (72%)]\tLoss: 6862.463867\n",
      "Train Epoch: 14 [25600/26634 (96%)]\tLoss: 6480.017578\n",
      "====> Epoch: 14 Average loss: 6844.4055\n",
      "*** Avg MSE: 4871.1392\n",
      "*** Avg KLD: 1973.2664\n",
      "====> Test set loss: 7018.8597\n",
      "*** Avg MSE: 5092.2174\n",
      "*** Avg KLD: 1926.6423\n",
      "Train Epoch: 15 [0/26634 (0%)]\tLoss: 6871.902832\n",
      "Train Epoch: 15 [6400/26634 (24%)]\tLoss: 6471.873047\n",
      "Train Epoch: 15 [12800/26634 (48%)]\tLoss: 6728.017090\n",
      "Train Epoch: 15 [19200/26634 (72%)]\tLoss: 7216.726074\n",
      "Train Epoch: 15 [25600/26634 (96%)]\tLoss: 6535.338867\n",
      "====> Epoch: 15 Average loss: 6754.1956\n",
      "*** Avg MSE: 4801.0518\n",
      "*** Avg KLD: 1953.1438\n",
      "====> Test set loss: 6820.3138\n",
      "*** Avg MSE: 4913.5859\n",
      "*** Avg KLD: 1906.7279\n",
      "Train Epoch: 16 [0/26634 (0%)]\tLoss: 6671.514648\n",
      "Train Epoch: 16 [6400/26634 (24%)]\tLoss: 6904.116211\n",
      "Train Epoch: 16 [12800/26634 (48%)]\tLoss: 6606.798828\n",
      "Train Epoch: 16 [19200/26634 (72%)]\tLoss: 6867.824219\n",
      "Train Epoch: 16 [25600/26634 (96%)]\tLoss: 6404.724609\n",
      "====> Epoch: 16 Average loss: 6671.1643\n",
      "*** Avg MSE: 4735.8189\n",
      "*** Avg KLD: 1935.3454\n",
      "====> Test set loss: 6751.2671\n",
      "*** Avg MSE: 4770.3240\n",
      "*** Avg KLD: 1980.9431\n",
      "Train Epoch: 17 [0/26634 (0%)]\tLoss: 6521.991699\n",
      "Train Epoch: 17 [6400/26634 (24%)]\tLoss: 6388.273438\n",
      "Train Epoch: 17 [12800/26634 (48%)]\tLoss: 6651.895020\n",
      "Train Epoch: 17 [19200/26634 (72%)]\tLoss: 6361.715820\n",
      "Train Epoch: 17 [25600/26634 (96%)]\tLoss: 6892.949707\n",
      "====> Epoch: 17 Average loss: 6597.5339\n",
      "*** Avg MSE: 4675.9837\n",
      "*** Avg KLD: 1921.5502\n",
      "====> Test set loss: 6645.9352\n",
      "*** Avg MSE: 4712.1212\n",
      "*** Avg KLD: 1933.8140\n",
      "Train Epoch: 18 [0/26634 (0%)]\tLoss: 6719.861816\n",
      "Train Epoch: 18 [6400/26634 (24%)]\tLoss: 6491.785156\n",
      "Train Epoch: 18 [12800/26634 (48%)]\tLoss: 6352.401367\n",
      "Train Epoch: 18 [19200/26634 (72%)]\tLoss: 6447.523438\n",
      "Train Epoch: 18 [25600/26634 (96%)]\tLoss: 6475.312012\n",
      "====> Epoch: 18 Average loss: 6519.9803\n",
      "*** Avg MSE: 4617.9180\n",
      "*** Avg KLD: 1902.0622\n",
      "====> Test set loss: 6592.0645\n",
      "*** Avg MSE: 4664.6651\n",
      "*** Avg KLD: 1927.3994\n",
      "Train Epoch: 19 [0/26634 (0%)]\tLoss: 6597.792969\n",
      "Train Epoch: 19 [6400/26634 (24%)]\tLoss: 6570.243164\n",
      "Train Epoch: 19 [12800/26634 (48%)]\tLoss: 6741.694824\n",
      "Train Epoch: 19 [19200/26634 (72%)]\tLoss: 6550.928223\n",
      "Train Epoch: 19 [25600/26634 (96%)]\tLoss: 6440.946289\n",
      "====> Epoch: 19 Average loss: 6448.9728\n",
      "*** Avg MSE: 4561.7725\n",
      "*** Avg KLD: 1887.2004\n",
      "====> Test set loss: 6490.0609\n",
      "*** Avg MSE: 4589.6032\n",
      "*** Avg KLD: 1900.4577\n",
      "Train Epoch: 20 [0/26634 (0%)]\tLoss: 6426.061523\n",
      "Train Epoch: 20 [6400/26634 (24%)]\tLoss: 6342.661133\n"
     ]
    },
    {
     "name": "stdout",
     "output_type": "stream",
     "text": [
      "Train Epoch: 20 [12800/26634 (48%)]\tLoss: 6344.119629\n",
      "Train Epoch: 20 [19200/26634 (72%)]\tLoss: 6780.742188\n",
      "Train Epoch: 20 [25600/26634 (96%)]\tLoss: 6081.635742\n",
      "====> Epoch: 20 Average loss: 6393.5374\n",
      "*** Avg MSE: 4518.9154\n",
      "*** Avg KLD: 1874.6220\n",
      "====> Test set loss: 6433.9582\n",
      "*** Avg MSE: 4530.5865\n",
      "*** Avg KLD: 1903.3717\n",
      "Train Epoch: 21 [0/26634 (0%)]\tLoss: 6333.746094\n",
      "Train Epoch: 21 [6400/26634 (24%)]\tLoss: 6140.268555\n",
      "Train Epoch: 21 [12800/26634 (48%)]\tLoss: 6598.891602\n",
      "Train Epoch: 21 [19200/26634 (72%)]\tLoss: 6772.304688\n",
      "Train Epoch: 21 [25600/26634 (96%)]\tLoss: 6013.217285\n",
      "====> Epoch: 21 Average loss: 6327.3398\n",
      "*** Avg MSE: 4469.2629\n",
      "*** Avg KLD: 1858.0769\n",
      "====> Test set loss: 6394.9539\n",
      "*** Avg MSE: 4494.2957\n",
      "*** Avg KLD: 1900.6583\n",
      "Train Epoch: 22 [0/26634 (0%)]\tLoss: 5881.464844\n",
      "Train Epoch: 22 [6400/26634 (24%)]\tLoss: 6046.050781\n",
      "Train Epoch: 22 [12800/26634 (48%)]\tLoss: 6015.184570\n",
      "Train Epoch: 22 [19200/26634 (72%)]\tLoss: 6161.189453\n",
      "Train Epoch: 22 [25600/26634 (96%)]\tLoss: 6413.559082\n",
      "====> Epoch: 22 Average loss: 6264.5733\n",
      "*** Avg MSE: 4419.5180\n",
      "*** Avg KLD: 1845.0554\n",
      "====> Test set loss: 6354.5865\n",
      "*** Avg MSE: 4556.1630\n",
      "*** Avg KLD: 1798.4235\n",
      "Train Epoch: 23 [0/26634 (0%)]\tLoss: 6353.507324\n",
      "Train Epoch: 23 [6400/26634 (24%)]\tLoss: 6438.020508\n",
      "Train Epoch: 23 [12800/26634 (48%)]\tLoss: 6107.015625\n",
      "Train Epoch: 23 [19200/26634 (72%)]\tLoss: 5891.365234\n",
      "Train Epoch: 23 [25600/26634 (96%)]\tLoss: 5905.435547\n",
      "====> Epoch: 23 Average loss: 6213.0896\n",
      "*** Avg MSE: 4380.8224\n",
      "*** Avg KLD: 1832.2672\n",
      "====> Test set loss: 6275.4958\n",
      "*** Avg MSE: 4449.8776\n",
      "*** Avg KLD: 1825.6181\n",
      "Train Epoch: 24 [0/26634 (0%)]\tLoss: 6263.768555\n",
      "Train Epoch: 24 [6400/26634 (24%)]\tLoss: 6120.011719\n",
      "Train Epoch: 24 [12800/26634 (48%)]\tLoss: 6102.681641\n",
      "Train Epoch: 24 [19200/26634 (72%)]\tLoss: 6129.797363\n",
      "Train Epoch: 24 [25600/26634 (96%)]\tLoss: 6002.578125\n",
      "====> Epoch: 24 Average loss: 6159.5277\n",
      "*** Avg MSE: 4338.4127\n",
      "*** Avg KLD: 1821.1149\n",
      "====> Test set loss: 6204.2466\n",
      "*** Avg MSE: 4377.5933\n",
      "*** Avg KLD: 1826.6533\n",
      "Train Epoch: 25 [0/26634 (0%)]\tLoss: 6011.452637\n",
      "Train Epoch: 25 [6400/26634 (24%)]\tLoss: 5857.279297\n",
      "Train Epoch: 25 [12800/26634 (48%)]\tLoss: 5965.206543\n",
      "Train Epoch: 25 [19200/26634 (72%)]\tLoss: 6117.709961\n",
      "Train Epoch: 25 [25600/26634 (96%)]\tLoss: 6417.352539\n",
      "====> Epoch: 25 Average loss: 6114.9623\n",
      "*** Avg MSE: 4302.5665\n",
      "*** Avg KLD: 1812.3957\n",
      "====> Test set loss: 6204.8288\n",
      "*** Avg MSE: 4386.2158\n",
      "*** Avg KLD: 1818.6130\n",
      "Train Epoch: 26 [0/26634 (0%)]\tLoss: 6307.010254\n",
      "Train Epoch: 26 [6400/26634 (24%)]\tLoss: 5757.067383\n",
      "Train Epoch: 26 [12800/26634 (48%)]\tLoss: 5766.812500\n",
      "Train Epoch: 26 [19200/26634 (72%)]\tLoss: 6000.541504\n",
      "Train Epoch: 26 [25600/26634 (96%)]\tLoss: 6194.630371\n",
      "====> Epoch: 26 Average loss: 6070.7813\n",
      "*** Avg MSE: 4267.7857\n",
      "*** Avg KLD: 1802.9957\n",
      "====> Test set loss: 6127.6438\n",
      "*** Avg MSE: 4327.0015\n",
      "*** Avg KLD: 1800.6423\n",
      "Train Epoch: 27 [0/26634 (0%)]\tLoss: 6324.460449\n",
      "Train Epoch: 27 [6400/26634 (24%)]\tLoss: 5839.270508\n",
      "Train Epoch: 27 [12800/26634 (48%)]\tLoss: 5890.052734\n",
      "Train Epoch: 27 [19200/26634 (72%)]\tLoss: 6009.513672\n",
      "Train Epoch: 27 [25600/26634 (96%)]\tLoss: 6010.143555\n",
      "====> Epoch: 27 Average loss: 6033.1198\n",
      "*** Avg MSE: 4236.0456\n",
      "*** Avg KLD: 1797.0741\n",
      "====> Test set loss: 6094.7504\n",
      "*** Avg MSE: 4301.1533\n",
      "*** Avg KLD: 1793.5972\n",
      "Train Epoch: 28 [0/26634 (0%)]\tLoss: 6176.470703\n",
      "Train Epoch: 28 [6400/26634 (24%)]\tLoss: 5701.907227\n",
      "Train Epoch: 28 [12800/26634 (48%)]\tLoss: 6109.881836\n",
      "Train Epoch: 28 [19200/26634 (72%)]\tLoss: 5690.987793\n",
      "Train Epoch: 28 [25600/26634 (96%)]\tLoss: 6131.825195\n",
      "====> Epoch: 28 Average loss: 5988.8369\n",
      "*** Avg MSE: 4199.7687\n",
      "*** Avg KLD: 1789.0682\n",
      "====> Test set loss: 6076.7407\n",
      "*** Avg MSE: 4292.1134\n",
      "*** Avg KLD: 1784.6273\n",
      "Train Epoch: 29 [0/26634 (0%)]\tLoss: 5893.472656\n",
      "Train Epoch: 29 [6400/26634 (24%)]\tLoss: 6058.208008\n",
      "Train Epoch: 29 [12800/26634 (48%)]\tLoss: 6114.827637\n",
      "Train Epoch: 29 [19200/26634 (72%)]\tLoss: 5529.687012\n",
      "Train Epoch: 29 [25600/26634 (96%)]\tLoss: 5767.333496\n",
      "====> Epoch: 29 Average loss: 5952.1274\n",
      "*** Avg MSE: 4170.7505\n",
      "*** Avg KLD: 1781.3768\n",
      "====> Test set loss: 6014.3421\n",
      "*** Avg MSE: 4223.0362\n",
      "*** Avg KLD: 1791.3059\n",
      "Train Epoch: 30 [0/26634 (0%)]\tLoss: 6100.349121\n",
      "Train Epoch: 30 [6400/26634 (24%)]\tLoss: 5992.291016\n",
      "Train Epoch: 30 [12800/26634 (48%)]\tLoss: 5648.049805\n",
      "Train Epoch: 30 [19200/26634 (72%)]\tLoss: 5691.538086\n",
      "Train Epoch: 30 [25600/26634 (96%)]\tLoss: 5922.020508\n",
      "====> Epoch: 30 Average loss: 5915.1601\n",
      "*** Avg MSE: 4142.6837\n",
      "*** Avg KLD: 1772.4764\n",
      "====> Test set loss: 5971.7778\n",
      "*** Avg MSE: 4229.4008\n",
      "*** Avg KLD: 1742.3769\n",
      "Train Epoch: 31 [0/26634 (0%)]\tLoss: 6317.732422\n",
      "Train Epoch: 31 [6400/26634 (24%)]\tLoss: 6135.066406\n",
      "Train Epoch: 31 [12800/26634 (48%)]\tLoss: 5820.367188\n",
      "Train Epoch: 31 [19200/26634 (72%)]\tLoss: 6070.741211\n",
      "Train Epoch: 31 [25600/26634 (96%)]\tLoss: 6166.275391\n",
      "====> Epoch: 31 Average loss: 5882.7389\n",
      "*** Avg MSE: 4115.3804\n",
      "*** Avg KLD: 1767.3586\n",
      "====> Test set loss: 5953.5244\n",
      "*** Avg MSE: 4178.6629\n",
      "*** Avg KLD: 1774.8615\n",
      "Train Epoch: 32 [0/26634 (0%)]\tLoss: 5811.070312\n",
      "Train Epoch: 32 [6400/26634 (24%)]\tLoss: 6025.568359\n",
      "Train Epoch: 32 [12800/26634 (48%)]\tLoss: 5768.901367\n",
      "Train Epoch: 32 [19200/26634 (72%)]\tLoss: 6101.840332\n",
      "Train Epoch: 32 [25600/26634 (96%)]\tLoss: 6170.509766\n",
      "====> Epoch: 32 Average loss: 5850.0492\n",
      "*** Avg MSE: 4087.0686\n",
      "*** Avg KLD: 1762.9806\n",
      "====> Test set loss: 5940.8951\n",
      "*** Avg MSE: 4203.9331\n",
      "*** Avg KLD: 1736.9620\n",
      "Train Epoch: 33 [0/26634 (0%)]\tLoss: 6100.647461\n",
      "Train Epoch: 33 [6400/26634 (24%)]\tLoss: 5667.280273\n",
      "Train Epoch: 33 [12800/26634 (48%)]\tLoss: 5611.252930\n",
      "Train Epoch: 33 [19200/26634 (72%)]\tLoss: 5442.060547\n",
      "Train Epoch: 33 [25600/26634 (96%)]\tLoss: 5777.946289\n",
      "====> Epoch: 33 Average loss: 5818.1653\n",
      "*** Avg MSE: 4062.6249\n",
      "*** Avg KLD: 1755.5404\n",
      "====> Test set loss: 5880.9060\n",
      "*** Avg MSE: 4126.6969\n",
      "*** Avg KLD: 1754.2091\n",
      "Train Epoch: 34 [0/26634 (0%)]\tLoss: 5790.918945\n",
      "Train Epoch: 34 [6400/26634 (24%)]\tLoss: 5456.559082\n",
      "Train Epoch: 34 [12800/26634 (48%)]\tLoss: 5783.734375\n",
      "Train Epoch: 34 [19200/26634 (72%)]\tLoss: 5920.294434\n",
      "Train Epoch: 34 [25600/26634 (96%)]\tLoss: 5857.427246\n",
      "====> Epoch: 34 Average loss: 5790.3663\n",
      "*** Avg MSE: 4037.6065\n",
      "*** Avg KLD: 1752.7598\n",
      "====> Test set loss: 5850.6258\n",
      "*** Avg MSE: 4113.8107\n",
      "*** Avg KLD: 1736.8150\n",
      "Train Epoch: 35 [0/26634 (0%)]\tLoss: 5287.541992\n",
      "Train Epoch: 35 [6400/26634 (24%)]\tLoss: 5551.741211\n",
      "Train Epoch: 35 [12800/26634 (48%)]\tLoss: 5803.658203\n",
      "Train Epoch: 35 [19200/26634 (72%)]\tLoss: 5552.386719\n",
      "Train Epoch: 35 [25600/26634 (96%)]\tLoss: 5443.222168\n",
      "====> Epoch: 35 Average loss: 5761.7831\n",
      "*** Avg MSE: 4012.7035\n",
      "*** Avg KLD: 1749.0796\n",
      "====> Test set loss: 5839.5942\n",
      "*** Avg MSE: 4104.2999\n",
      "*** Avg KLD: 1735.2943\n",
      "Train Epoch: 36 [0/26634 (0%)]\tLoss: 5811.880371\n",
      "Train Epoch: 36 [6400/26634 (24%)]\tLoss: 5775.354492\n",
      "Train Epoch: 36 [12800/26634 (48%)]\tLoss: 5566.483398\n",
      "Train Epoch: 36 [19200/26634 (72%)]\tLoss: 5852.341797\n",
      "Train Epoch: 36 [25600/26634 (96%)]\tLoss: 5430.021484\n",
      "====> Epoch: 36 Average loss: 5737.3436\n",
      "*** Avg MSE: 3992.1707\n",
      "*** Avg KLD: 1745.1730\n",
      "====> Test set loss: 5821.3811\n",
      "*** Avg MSE: 4073.7375\n",
      "*** Avg KLD: 1747.6436\n",
      "Train Epoch: 37 [0/26634 (0%)]\tLoss: 5852.585938\n",
      "Train Epoch: 37 [6400/26634 (24%)]\tLoss: 5720.173340\n",
      "Train Epoch: 37 [12800/26634 (48%)]\tLoss: 5633.818359\n",
      "Train Epoch: 37 [19200/26634 (72%)]\tLoss: 5872.449219\n",
      "Train Epoch: 37 [25600/26634 (96%)]\tLoss: 5522.811523\n",
      "====> Epoch: 37 Average loss: 5713.7474\n",
      "*** Avg MSE: 3971.7287\n",
      "*** Avg KLD: 1742.0187\n",
      "====> Test set loss: 5798.3481\n",
      "*** Avg MSE: 4051.8430\n",
      "*** Avg KLD: 1746.5050\n",
      "Train Epoch: 38 [0/26634 (0%)]\tLoss: 5660.581055\n",
      "Train Epoch: 38 [6400/26634 (24%)]\tLoss: 5391.837891\n",
      "Train Epoch: 38 [12800/26634 (48%)]\tLoss: 5509.672852\n",
      "Train Epoch: 38 [19200/26634 (72%)]\tLoss: 5895.384766\n",
      "Train Epoch: 38 [25600/26634 (96%)]\tLoss: 6011.830566\n",
      "====> Epoch: 38 Average loss: 5687.8872\n",
      "*** Avg MSE: 3950.2181\n",
      "*** Avg KLD: 1737.6691\n",
      "====> Test set loss: 5781.7184\n",
      "*** Avg MSE: 4027.1880\n",
      "*** Avg KLD: 1754.5305\n",
      "Train Epoch: 39 [0/26634 (0%)]\tLoss: 5647.596680\n",
      "Train Epoch: 39 [6400/26634 (24%)]\tLoss: 5626.500488\n",
      "Train Epoch: 39 [12800/26634 (48%)]\tLoss: 5918.696289\n"
     ]
    },
    {
     "name": "stdout",
     "output_type": "stream",
     "text": [
      "Train Epoch: 39 [19200/26634 (72%)]\tLoss: 5513.472168\n",
      "Train Epoch: 39 [25600/26634 (96%)]\tLoss: 5564.685547\n",
      "====> Epoch: 39 Average loss: 5661.0074\n",
      "*** Avg MSE: 3926.7141\n",
      "*** Avg KLD: 1734.2933\n",
      "====> Test set loss: 5742.1857\n",
      "*** Avg MSE: 4009.9839\n",
      "*** Avg KLD: 1732.2018\n",
      "Train Epoch: 40 [0/26634 (0%)]\tLoss: 5806.261719\n",
      "Train Epoch: 40 [6400/26634 (24%)]\tLoss: 5402.436523\n",
      "Train Epoch: 40 [12800/26634 (48%)]\tLoss: 6193.339355\n",
      "Train Epoch: 40 [19200/26634 (72%)]\tLoss: 5241.750000\n",
      "Train Epoch: 40 [25600/26634 (96%)]\tLoss: 5574.407227\n",
      "====> Epoch: 40 Average loss: 5646.5138\n",
      "*** Avg MSE: 3912.0544\n",
      "*** Avg KLD: 1734.4593\n",
      "====> Test set loss: 5711.7426\n",
      "*** Avg MSE: 3995.3785\n",
      "*** Avg KLD: 1716.3641\n",
      "Train Epoch: 41 [0/26634 (0%)]\tLoss: 5820.973633\n",
      "Train Epoch: 41 [6400/26634 (24%)]\tLoss: 5559.889160\n",
      "Train Epoch: 41 [12800/26634 (48%)]\tLoss: 5534.502441\n",
      "Train Epoch: 41 [19200/26634 (72%)]\tLoss: 5416.322266\n",
      "Train Epoch: 41 [25600/26634 (96%)]\tLoss: 5265.755371\n",
      "====> Epoch: 41 Average loss: 5621.8432\n",
      "*** Avg MSE: 3888.9729\n",
      "*** Avg KLD: 1732.8703\n",
      "====> Test set loss: 5704.6000\n",
      "*** Avg MSE: 3991.4406\n",
      "*** Avg KLD: 1713.1594\n",
      "Train Epoch: 42 [0/26634 (0%)]\tLoss: 5456.365723\n",
      "Train Epoch: 42 [6400/26634 (24%)]\tLoss: 5649.601562\n",
      "Train Epoch: 42 [12800/26634 (48%)]\tLoss: 5393.933594\n",
      "Train Epoch: 42 [19200/26634 (72%)]\tLoss: 5423.894531\n",
      "Train Epoch: 42 [25600/26634 (96%)]\tLoss: 5323.465820\n",
      "====> Epoch: 42 Average loss: 5601.9384\n",
      "*** Avg MSE: 3871.3827\n",
      "*** Avg KLD: 1730.5557\n",
      "====> Test set loss: 5687.1357\n",
      "*** Avg MSE: 3928.1692\n",
      "*** Avg KLD: 1758.9665\n",
      "Train Epoch: 43 [0/26634 (0%)]\tLoss: 5705.517578\n",
      "Train Epoch: 43 [6400/26634 (24%)]\tLoss: 5502.023438\n",
      "Train Epoch: 43 [12800/26634 (48%)]\tLoss: 5443.290039\n",
      "Train Epoch: 43 [19200/26634 (72%)]\tLoss: 6044.180664\n",
      "Train Epoch: 43 [25600/26634 (96%)]\tLoss: 5462.225098\n",
      "====> Epoch: 43 Average loss: 5582.1085\n",
      "*** Avg MSE: 3855.5108\n",
      "*** Avg KLD: 1726.5978\n",
      "====> Test set loss: 5677.9324\n",
      "*** Avg MSE: 3931.8141\n",
      "*** Avg KLD: 1746.1183\n",
      "Train Epoch: 44 [0/26634 (0%)]\tLoss: 5767.422852\n",
      "Train Epoch: 44 [6400/26634 (24%)]\tLoss: 5344.364258\n",
      "Train Epoch: 44 [12800/26634 (48%)]\tLoss: 5705.847656\n",
      "Train Epoch: 44 [19200/26634 (72%)]\tLoss: 5355.047852\n",
      "Train Epoch: 44 [25600/26634 (96%)]\tLoss: 5445.334961\n",
      "====> Epoch: 44 Average loss: 5559.9504\n",
      "*** Avg MSE: 3836.1948\n",
      "*** Avg KLD: 1723.7556\n",
      "====> Test set loss: 5650.1100\n",
      "*** Avg MSE: 3921.0438\n",
      "*** Avg KLD: 1729.0663\n",
      "Train Epoch: 45 [0/26634 (0%)]\tLoss: 5475.350586\n",
      "Train Epoch: 45 [6400/26634 (24%)]\tLoss: 5319.605957\n",
      "Train Epoch: 45 [12800/26634 (48%)]\tLoss: 5346.327148\n",
      "Train Epoch: 45 [19200/26634 (72%)]\tLoss: 5789.314453\n",
      "Train Epoch: 45 [25600/26634 (96%)]\tLoss: 5590.241699\n",
      "====> Epoch: 45 Average loss: 5541.1449\n",
      "*** Avg MSE: 3818.7063\n",
      "*** Avg KLD: 1722.4386\n",
      "====> Test set loss: 5655.7691\n",
      "*** Avg MSE: 3930.6576\n",
      "*** Avg KLD: 1725.1115\n",
      "Train Epoch: 46 [0/26634 (0%)]\tLoss: 5803.499512\n",
      "Train Epoch: 46 [6400/26634 (24%)]\tLoss: 5725.160156\n",
      "Train Epoch: 46 [12800/26634 (48%)]\tLoss: 5871.284180\n",
      "Train Epoch: 46 [19200/26634 (72%)]\tLoss: 5795.850586\n",
      "Train Epoch: 46 [25600/26634 (96%)]\tLoss: 5444.117188\n",
      "====> Epoch: 46 Average loss: 5527.4109\n",
      "*** Avg MSE: 3808.5256\n",
      "*** Avg KLD: 1718.8853\n",
      "====> Test set loss: 5601.3441\n",
      "*** Avg MSE: 3876.5794\n",
      "*** Avg KLD: 1724.7647\n",
      "Train Epoch: 47 [0/26634 (0%)]\tLoss: 5369.546875\n",
      "Train Epoch: 47 [6400/26634 (24%)]\tLoss: 5412.081055\n",
      "Train Epoch: 47 [12800/26634 (48%)]\tLoss: 5440.240723\n",
      "Train Epoch: 47 [19200/26634 (72%)]\tLoss: 5435.894531\n",
      "Train Epoch: 47 [25600/26634 (96%)]\tLoss: 5526.788086\n",
      "====> Epoch: 47 Average loss: 5510.5977\n",
      "*** Avg MSE: 3791.0071\n",
      "*** Avg KLD: 1719.5905\n",
      "====> Test set loss: 5596.4537\n",
      "*** Avg MSE: 3901.7250\n",
      "*** Avg KLD: 1694.7287\n",
      "Train Epoch: 48 [0/26634 (0%)]\tLoss: 5812.914062\n",
      "Train Epoch: 48 [6400/26634 (24%)]\tLoss: 5583.434570\n",
      "Train Epoch: 48 [12800/26634 (48%)]\tLoss: 5477.070312\n",
      "Train Epoch: 48 [19200/26634 (72%)]\tLoss: 5734.806152\n",
      "Train Epoch: 48 [25600/26634 (96%)]\tLoss: 5581.162598\n",
      "====> Epoch: 48 Average loss: 5490.3440\n",
      "*** Avg MSE: 3771.6545\n",
      "*** Avg KLD: 1718.6895\n",
      "====> Test set loss: 5579.8991\n",
      "*** Avg MSE: 3874.2524\n",
      "*** Avg KLD: 1705.6468\n",
      "Train Epoch: 49 [0/26634 (0%)]\tLoss: 5480.310547\n",
      "Train Epoch: 49 [6400/26634 (24%)]\tLoss: 5263.976074\n",
      "Train Epoch: 49 [12800/26634 (48%)]\tLoss: 5871.016602\n",
      "Train Epoch: 49 [19200/26634 (72%)]\tLoss: 5604.610352\n",
      "Train Epoch: 49 [25600/26634 (96%)]\tLoss: 5455.184570\n",
      "====> Epoch: 49 Average loss: 5474.1107\n",
      "*** Avg MSE: 3759.1798\n",
      "*** Avg KLD: 1714.9309\n",
      "====> Test set loss: 5574.9228\n",
      "*** Avg MSE: 3855.7305\n",
      "*** Avg KLD: 1719.1922\n",
      "Train Epoch: 50 [0/26634 (0%)]\tLoss: 5770.723145\n",
      "Train Epoch: 50 [6400/26634 (24%)]\tLoss: 5730.055664\n",
      "Train Epoch: 50 [12800/26634 (48%)]\tLoss: 5718.337891\n",
      "Train Epoch: 50 [19200/26634 (72%)]\tLoss: 5582.859375\n",
      "Train Epoch: 50 [25600/26634 (96%)]\tLoss: 5543.360840\n",
      "====> Epoch: 50 Average loss: 5460.5524\n",
      "*** Avg MSE: 3745.6087\n",
      "*** Avg KLD: 1714.9437\n",
      "====> Test set loss: 5531.4839\n",
      "*** Avg MSE: 3839.1989\n",
      "*** Avg KLD: 1692.2850\n"
     ]
    }
   ],
   "source": [
    "optimizer = optim.Adam(model.parameters(), lr=1e-4)\n",
    "train_trace = {\n",
    "    'loss': [],\n",
    "    'mse': [],\n",
    "    'kld': []\n",
    "}\n",
    "\n",
    "val_trace = {\n",
    "    'loss': [],\n",
    "    'mse': [],\n",
    "    'kld': []\n",
    "}\n",
    "epochs = 50\n",
    "for epoch in range(1, epochs + 1):\n",
    "        loss, mse, kld = train(epoch, train_data)\n",
    "        train_trace['loss'].append(loss)\n",
    "        train_trace['mse'].append(mse)\n",
    "        train_trace['kld'].append(kld)\n",
    "\n",
    "        loss, mse, kld = test(epoch, val_data)\n",
    "        val_trace['loss'].append(loss)\n",
    "        val_trace['mse'].append(mse)\n",
    "        val_trace['kld'].append(kld)\n",
    "\n",
    "        with torch.no_grad():\n",
    "            sample = torch.randn(4, 256).to(device)\n",
    "            sample = model.decode(sample).cpu()\n",
    "            sample = torchvision.utils.make_grid(sample)\n",
    "            imshow(sample)\n",
    "            plt.savefig(results_dir + 'sample_' + str(epoch) + '.png')\n",
    "            plt.close()\n",
    "            #save_image(sample, results_dir + 'sample_' + str(epoch) + '.tif')"
   ]
  },
  {
   "cell_type": "code",
   "execution_count": 12,
   "metadata": {},
   "outputs": [
    {
     "data": {
      "text/plain": [
       "[<matplotlib.lines.Line2D at 0x240e01786a0>]"
      ]
     },
     "execution_count": 12,
     "metadata": {},
     "output_type": "execute_result"
    },
    {
     "data": {
      "image/png": "[encoded data removed]",
      "text/plain": [
       "<Figure size 432x288 with 1 Axes>"
      ]
     },
     "metadata": {
      "needs_background": "light"
     },
     "output_type": "display_data"
    }
   ],
   "source": [
    "plt.plot(train_trace['loss'])\n",
    "plt.plot(val_trace['loss'])"
   ]
  },
  {
   "cell_type": "code",
   "execution_count": 13,
   "metadata": {},
   "outputs": [
    {
     "data": {
      "text/plain": [
       "[<matplotlib.lines.Line2D at 0x2424bcfea90>]"
      ]
     },
     "execution_count": 13,
     "metadata": {},
     "output_type": "execute_result"
    },
    {
     "data": {
      "image/png": "[encoded data removed]",
      "text/plain": [
       "<Figure size 432x288 with 1 Axes>"
      ]
     },
     "metadata": {
      "needs_background": "light"
     },
     "output_type": "display_data"
    }
   ],
   "source": [
    "plt.plot(train_trace['mse'])\n",
    "plt.plot(val_trace['mse'])"
   ]
  },
  {
   "cell_type": "code",
   "execution_count": 14,
   "metadata": {},
   "outputs": [
    {
     "data": {
      "text/plain": [
       "[<matplotlib.lines.Line2D at 0x2424bd56c18>]"
      ]
     },
     "execution_count": 14,
     "metadata": {},
     "output_type": "execute_result"
    },
    {
     "data": {
      "image/png": "[encoded data removed]",
      "text/plain": [
       "<Figure size 432x288 with 1 Axes>"
      ]
     },
     "metadata": {
      "needs_background": "light"
     },
     "output_type": "display_data"
    }
   ],
   "source": [
    "plt.plot(train_trace['kld'])\n",
    "plt.plot(val_trace['kld'])"
   ]
  },
  {
   "cell_type": "code",
   "execution_count": 15,
   "metadata": {},
   "outputs": [
    {
     "name": "stdout",
     "output_type": "stream",
     "text": [
      "torch.Size([128, 3, 96, 96])\n",
      "tensor(13.5860)\n",
      "tensor(13.5860)\n",
      "tensor(4.6773)\n",
      "tensor(7.0543)\n"
     ]
    }
   ],
   "source": [
    "img, _ = next(iter(val_data))\n",
    "print(img.shape)\n",
    "print(torch.max(img[0]))\n",
    "print(torch.max(img[0][0]))\n",
    "print(torch.max(img[0][1]))\n",
    "print(torch.max(img[0][2]))"
   ]
  },
  {
   "cell_type": "code",
   "execution_count": 16,
   "metadata": {},
   "outputs": [],
   "source": [
    "x = img[0:100].to(device)\n",
    "recon, mu, logvar = model.forward(x)"
   ]
  },
  {
   "cell_type": "code",
   "execution_count": 17,
   "metadata": {},
   "outputs": [
    {
     "data": {
      "text/plain": [
       "tensor(4872303.5000, device='cuda:0', grad_fn=<MulBackward0>)"
      ]
     },
     "execution_count": 17,
     "metadata": {},
     "output_type": "execute_result"
    }
   ],
   "source": [
    "loss, mse, kld = loss_function(recon, x, mu, logvar)\n",
    "kld*100"
   ]
  },
  {
   "cell_type": "code",
   "execution_count": 20,
   "metadata": {},
   "outputs": [
    {
     "data": {
      "text/plain": [
       "tensor(48723.0352, device='cuda:0', grad_fn=<SumBackward0>)"
      ]
     },
     "execution_count": 20,
     "metadata": {},
     "output_type": "execute_result"
    }
   ],
   "source": [
    "torch.sum((-0.5 * torch.sum(1 + logvar - mu.pow(2) - logvar.exp(), axis=1)))"
   ]
  },
  {
   "cell_type": "code",
   "execution_count": 19,
   "metadata": {},
   "outputs": [
    {
     "data": {
      "text/plain": [
       "tensor(48723.0312, device='cuda:0', grad_fn=<MulBackward0>)"
      ]
     },
     "execution_count": 19,
     "metadata": {},
     "output_type": "execute_result"
    }
   ],
   "source": [
    "-0.5 * torch.sum(1 + logvar - mu.pow(2) - logvar.exp())"
   ]
  },
  {
   "cell_type": "code",
   "execution_count": 21,
   "metadata": {},
   "outputs": [
    {
     "data": {
      "text/plain": [
       "tensor(301758.5000, device='cuda:0', grad_fn=<MseLossBackward>)"
      ]
     },
     "execution_count": 21,
     "metadata": {},
     "output_type": "execute_result"
    }
   ],
   "source": [
    "mse"
   ]
  },
  {
   "cell_type": "code",
   "execution_count": 59,
   "metadata": {},
   "outputs": [
    {
     "data": {
      "text/plain": [
       "tensor(60.0141, device='cuda:0', grad_fn=<AddBackward0>)"
      ]
     },
     "execution_count": 59,
     "metadata": {},
     "output_type": "execute_result"
    }
   ],
   "source": [
    "loss"
   ]
  },
  {
   "cell_type": "code",
   "execution_count": null,
   "metadata": {},
   "outputs": [],
   "source": [
    "image_dataset = datasets.ImageFolder(data_dir, transform=transforms.Compose([\n",
    "        transforms.ToTensor(),\n",
    "        #transforms.Normalize((0.5, 0.5, 0.5), (0.5, 0.5, 0.5))\n",
    "    ]))\n",
    "\n",
    "loader = data.DataLoader(\n",
    "    image_dataset,\n",
    "    batch_size=128,\n",
    "    num_workers=0,\n",
    "    pin_memory=True,\n",
    "    shuffle=False\n",
    ")\n",
    "\n",
    "\n",
    "mean = 0.\n",
    "std = 0.\n",
    "nb_samples = 0.\n",
    "for dat, _ in loader:\n",
    "    batch_samples = dat.size(0)\n",
    "    dat = dat.view(batch_samples, dat.size(1), -1)\n",
    "    mean += dat.mean(2).sum(0)\n",
    "    std += dat.std(2).sum(0)\n",
    "    nb_samples += batch_samples\n",
    "\n",
    "mean /= nb_samples\n",
    "std /= nb_samples\n",
    "print(\"mean: \", mean)\n",
    "print(\"std: \", std)"
   ]
  },
  {
   "cell_type": "code",
   "execution_count": null,
   "metadata": {},
   "outputs": [],
   "source": []
  }
 ],
 "metadata": {
  "kernelspec": {
   "display_name": "Python 3",
   "language": "python",
   "name": "python3"
  },
  "language_info": {
   "codemirror_mode": {
    "name": "ipython",
    "version": 3
   },
   "file_extension": ".py",
   "mimetype": "text/x-python",
   "name": "python",
   "nbconvert_exporter": "python",
   "pygments_lexer": "ipython3",
   "version": "3.7.3"
  }
 },
 "nbformat": 4,
 "nbformat_minor": 2
}
